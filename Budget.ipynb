{
 "cells": [
  {
   "cell_type": "code",
   "execution_count": 1,
   "id": "initial_id",
   "metadata": {
    "collapsed": true,
    "ExecuteTime": {
     "end_time": "2024-09-23T08:21:18.864932Z",
     "start_time": "2024-09-23T08:21:17.536433Z"
    }
   },
   "outputs": [],
   "source": [
    "import pandas as pd\n",
    "import json\n",
    "import boto3\n",
    "import awswrangler as wr\n",
    "pd.options.display.max_rows = 1000\n",
    "pd.options.display.max_columns = 100\n",
    "boto3.setup_default_session(profile_name='vej')"
   ]
  },
  {
   "cell_type": "code",
   "outputs": [],
   "source": [
    "budget2023 = pd.read_excel('./source/Budget/BUDGET-2020.xlsx')"
   ],
   "metadata": {
    "collapsed": false,
    "ExecuteTime": {
     "end_time": "2024-09-23T08:21:51.275452Z",
     "start_time": "2024-09-23T08:21:19.959249Z"
    }
   },
   "id": "123d3f35767f84d9",
   "execution_count": 2
  },
  {
   "cell_type": "code",
   "outputs": [
    {
     "data": {
      "text/plain": "      BUSINESS_UNIT  JOURNAL_ID         JOURNAL_DATE  UNPOST_SEQ  \\\n0             VTN01  0000066578  2020-04-30 00:00:00           0   \n1             VTN01  0000066578  2020-04-30 00:00:00           0   \n2             VTN01  0000066578  2020-04-30 00:00:00           0   \n3             VTN01  0000066578  2020-04-30 00:00:00           0   \n4             VTN01  0000066578  2020-04-30 00:00:00           0   \n...             ...         ...                  ...         ...   \n85618         VTN01  0000066583  2020-09-30 00:00:00           0   \n85619         VTN01  0000066583  2020-09-30 00:00:00           0   \n85620         VTN01  0000066583  2020-09-30 00:00:00           0   \n85621         VTN01  0000066583  2020-09-30 00:00:00           0   \n85622         VTN01  0000066583  2020-09-30 00:00:00           0   \n\n       JOURNAL_LINE  LEDGER  ACCOUNT  ALTACCT    DEPTID  OPERATING_UNIT  \\\n0               709  BUDGET   452001      NaN  110030.0             NaN   \n1               710  BUDGET   452004      NaN  110030.0             NaN   \n2               711  BUDGET   453001      NaN  110030.0             NaN   \n3               712  BUDGET   454002      NaN  110030.0             NaN   \n4               713  BUDGET   455001      NaN  110030.0             NaN   \n...             ...     ...      ...      ...       ...             ...   \n85618          6899  BUDGET   481006      NaN  110081.0             NaN   \n85619          6900  BUDGET   483001      NaN  110081.0             NaN   \n85620          6901  BUDGET   483002      NaN  110081.0             NaN   \n85621          6902  BUDGET   484102      NaN  110081.0             NaN   \n85622          6880  BUDGET   441006      NaN  110081.0             NaN   \n\n      PRODUCT  FUND_CODE CLASS_FLD  PROGRAM_CODE  BUDGET_REF  AFFILIATE  \\\n0         OPD        NaN        TH           NaN         NaN        NaN   \n1         OPD        NaN        TH           NaN         NaN        NaN   \n2         OPD        NaN        TH           NaN         NaN        NaN   \n3         OPD        NaN        TH           NaN         NaN        NaN   \n4         OPD        NaN        TH           NaN         NaN        NaN   \n...       ...        ...       ...           ...         ...        ...   \n85618     IPD        NaN        MY           NaN         NaN        NaN   \n85619     IPD        NaN        MY           NaN         NaN        NaN   \n85620     IPD        NaN        MY           NaN         NaN        NaN   \n85621     IPD        NaN        MY           NaN         NaN        NaN   \n85622     IPD        NaN        MY           NaN         NaN        NaN   \n\n       AFFILIATE_INTRA1  AFFILIATE_INTRA2 CHARTFIELD1 CHARTFIELD2 CHARTFIELD3  \\\n0                   NaN               NaN        2SPI        2SPI        2SPI   \n1                   NaN               NaN        2SPI        2SPI        2SPI   \n2                   NaN               NaN        2SPI        2SPI        2SPI   \n3                   NaN               NaN        2SPI        2SPI        2SPI   \n4                   NaN               NaN        2SPI        2SPI        2SPI   \n...                 ...               ...         ...         ...         ...   \n85618               NaN               NaN        2BRC        2BRC        2BRC   \n85619               NaN               NaN        2BRC        2BRC        2BRC   \n85620               NaN               NaN        2BRC        2BRC        2BRC   \n85621               NaN               NaN        2BRC        2BRC        2BRC   \n85622               NaN               NaN        2BRC        2BRC        2BRC   \n\n       BOOK_CODE  GL_ADJUST_TYPE  BUDGET_PERIOD  SCENARIO CURRENCY_CD  \\\n0            NaN             NaN            NaN       NaN         THB   \n1            NaN             NaN            NaN       NaN         THB   \n2            NaN             NaN            NaN       NaN         THB   \n3            NaN             NaN            NaN       NaN         THB   \n4            NaN             NaN            NaN       NaN         THB   \n...          ...             ...            ...       ...         ...   \n85618        NaN             NaN            NaN       NaN         THB   \n85619        NaN             NaN            NaN       NaN         THB   \n85620        NaN             NaN            NaN       NaN         THB   \n85621        NaN             NaN            NaN       NaN         THB   \n85622        NaN             NaN            NaN       NaN         THB   \n\n       BUSINESS_UNIT_PC  PROJECT_ID  ACTIVITY_ID  RESOURCE_TYPE  \\\n0                   NaN         NaN          NaN            NaN   \n1                   NaN         NaN          NaN            NaN   \n2                   NaN         NaN          NaN            NaN   \n3                   NaN         NaN          NaN            NaN   \n4                   NaN         NaN          NaN            NaN   \n...                 ...         ...          ...            ...   \n85618               NaN         NaN          NaN            NaN   \n85619               NaN         NaN          NaN            NaN   \n85620               NaN         NaN          NaN            NaN   \n85621               NaN         NaN          NaN            NaN   \n85622               NaN         NaN          NaN            NaN   \n\n       RESOURCE_CATEGORY  RESOURCE_SUB_CAT  ANALYSIS_TYPE  STATISTICS_CODE  \\\n0                    NaN               NaN            NaN              NaN   \n1                    NaN               NaN            NaN              NaN   \n2                    NaN               NaN            NaN              NaN   \n3                    NaN               NaN            NaN              NaN   \n4                    NaN               NaN            NaN              NaN   \n...                  ...               ...            ...              ...   \n85618                NaN               NaN            NaN              NaN   \n85619                NaN               NaN            NaN              NaN   \n85620                NaN               NaN            NaN              NaN   \n85621                NaN               NaN            NaN              NaN   \n85622                NaN               NaN            NaN              NaN   \n\n       MONETARY_AMOUNT MOVEMENT_FLAG  STATISTIC_AMOUNT  JRNL_LN_REF  \\\n0            -21532.85             N               0.0          NaN   \n1              -468.83             N               0.0          NaN   \n2           -238592.57             N               0.0          NaN   \n3              -203.98             N               0.0          NaN   \n4            -10610.93             N               0.0          NaN   \n...                ...           ...               ...          ...   \n85618            75.62             N               0.0          NaN   \n85619           132.48             N               0.0          NaN   \n85620           193.61             N               0.0          NaN   \n85621           339.21             N               0.0          NaN   \n85622          -140.79             N               0.0          NaN   \n\n       SUSPENDED_LINE                      LINE_DESCR  JRNL_LINE_STATUS  \\\n0                   0       LABORATORY SERVICE CHARGE                 0   \n1                   0   LABORATORY CHARGE - OUTSOURCE                 0   \n2                   0         PHYSICAL THERAPY CHARGE                 0   \n3                   0                      EKG CHARGE                 0   \n4                   0            NURSE SERVICE CHARGE                 0   \n...               ...                             ...               ...   \n85618               0  DISCOUNT- MEDICAL SUPPLY - GAS                 0   \n85619               0   DISCOUNT MED EQUIPMENT CHARGE                 0   \n85620               0  DISCOUNT MED EQUIPMENT-OR CHAR                 0   \n85621               0   DISC GRAND SINGLE ROOM CHARGE                 0   \n85622               0               OTHER ROOM CHARGE                 0   \n\n         JOURNAL_LINE_DATE FOREIGN_CURRENCY  RT_TYPE  FOREIGN_AMOUNT  \\\n0      2020-04-30 00:00:00              THB      NaN       -21532.85   \n1      2020-04-30 00:00:00              THB      NaN         -468.83   \n2      2020-04-30 00:00:00              THB      NaN      -238592.57   \n3      2020-04-30 00:00:00              THB      NaN         -203.98   \n4      2020-04-30 00:00:00              THB      NaN       -10610.93   \n...                    ...              ...      ...             ...   \n85618  2020-09-30 00:00:00              THB      NaN           75.62   \n85619  2020-09-30 00:00:00              THB      NaN          132.48   \n85620  2020-09-30 00:00:00              THB      NaN          193.61   \n85621  2020-09-30 00:00:00              THB      NaN          339.21   \n85622  2020-09-30 00:00:00              THB      NaN         -140.79   \n\n       RATE_DIV  RATE_MULT  PROCESS_INSTANCE  DOC_TYPE  DOC_SEQ_NBR  \\\n0           1.0        1.0           2206983       NaN          NaN   \n1           1.0        1.0           2206983       NaN          NaN   \n2           1.0        1.0           2206983       NaN          NaN   \n3           1.0        1.0           2206983       NaN          NaN   \n4           1.0        1.0           2206983       NaN          NaN   \n...         ...        ...               ...       ...          ...   \n85618       1.0        1.0           2207011       NaN          NaN   \n85619       1.0        1.0           2207011       NaN          NaN   \n85620       1.0        1.0           2207011       NaN          NaN   \n85621       1.0        1.0           2207011       NaN          NaN   \n85622       1.0        1.0           2207011       NaN          NaN   \n\n              DOC_SEQ_DATE  DOC_SEQ_STATUS JRNL_LINE_SOURCE  \\\n0      2020-05-06 00:00:00             NaN              NVS   \n1      2020-05-06 00:00:00             NaN              NVS   \n2      2020-05-06 00:00:00             NaN              NVS   \n3      2020-05-06 00:00:00             NaN              NVS   \n4      2020-05-06 00:00:00             NaN              NVS   \n...                    ...             ...              ...   \n85618  2020-05-06 00:00:00             NaN              NVS   \n85619  2020-05-06 00:00:00             NaN              NVS   \n85620  2020-05-06 00:00:00             NaN              NVS   \n85621  2020-05-06 00:00:00             NaN              NVS   \n85622  2020-05-06 00:00:00             NaN              NVS   \n\n                 BUDGET_DT BUDGET_LINE_STATUS  CLOSING_STATUS  ENTRY_EVENT  \\\n0      2020-04-30 00:00:00                  N             NaN          NaN   \n1      2020-04-30 00:00:00                  N             NaN          NaN   \n2      2020-04-30 00:00:00                  N             NaN          NaN   \n3      2020-04-30 00:00:00                  N             NaN          NaN   \n4      2020-04-30 00:00:00                  N             NaN          NaN   \n...                    ...                ...             ...          ...   \n85618  2020-09-30 00:00:00                  N             NaN          NaN   \n85619  2020-09-30 00:00:00                  N             NaN          NaN   \n85620  2020-09-30 00:00:00                  N             NaN          NaN   \n85621  2020-09-30 00:00:00                  N             NaN          NaN   \n85622  2020-09-30 00:00:00                  N             NaN          NaN   \n\n      EE_PROC_STATUS  JOURNAL_LINE_GFEE  IU_TRAN_GRP_NBR IU_ANCHOR_FLG  \n0                  Y                  0                0             N  \n1                  Y                  0                0             N  \n2                  Y                  0                0             N  \n3                  Y                  0                0             N  \n4                  Y                  0                0             N  \n...              ...                ...              ...           ...  \n85618              Y                  0                0             N  \n85619              Y                  0                0             N  \n85620              Y                  0                0             N  \n85621              Y                  0                0             N  \n85622              Y                  0                0             N  \n\n[85623 rows x 61 columns]",
      "text/html": "<div>\n<style scoped>\n    .dataframe tbody tr th:only-of-type {\n        vertical-align: middle;\n    }\n\n    .dataframe tbody tr th {\n        vertical-align: top;\n    }\n\n    .dataframe thead th {\n        text-align: right;\n    }\n</style>\n<table border=\"1\" class=\"dataframe\">\n  <thead>\n    <tr style=\"text-align: right;\">\n      <th></th>\n      <th>BUSINESS_UNIT</th>\n      <th>JOURNAL_ID</th>\n      <th>JOURNAL_DATE</th>\n      <th>UNPOST_SEQ</th>\n      <th>JOURNAL_LINE</th>\n      <th>LEDGER</th>\n      <th>ACCOUNT</th>\n      <th>ALTACCT</th>\n      <th>DEPTID</th>\n      <th>OPERATING_UNIT</th>\n      <th>PRODUCT</th>\n      <th>FUND_CODE</th>\n      <th>CLASS_FLD</th>\n      <th>PROGRAM_CODE</th>\n      <th>BUDGET_REF</th>\n      <th>AFFILIATE</th>\n      <th>AFFILIATE_INTRA1</th>\n      <th>AFFILIATE_INTRA2</th>\n      <th>CHARTFIELD1</th>\n      <th>CHARTFIELD2</th>\n      <th>CHARTFIELD3</th>\n      <th>BOOK_CODE</th>\n      <th>GL_ADJUST_TYPE</th>\n      <th>BUDGET_PERIOD</th>\n      <th>SCENARIO</th>\n      <th>CURRENCY_CD</th>\n      <th>BUSINESS_UNIT_PC</th>\n      <th>PROJECT_ID</th>\n      <th>ACTIVITY_ID</th>\n      <th>RESOURCE_TYPE</th>\n      <th>RESOURCE_CATEGORY</th>\n      <th>RESOURCE_SUB_CAT</th>\n      <th>ANALYSIS_TYPE</th>\n      <th>STATISTICS_CODE</th>\n      <th>MONETARY_AMOUNT</th>\n      <th>MOVEMENT_FLAG</th>\n      <th>STATISTIC_AMOUNT</th>\n      <th>JRNL_LN_REF</th>\n      <th>SUSPENDED_LINE</th>\n      <th>LINE_DESCR</th>\n      <th>JRNL_LINE_STATUS</th>\n      <th>JOURNAL_LINE_DATE</th>\n      <th>FOREIGN_CURRENCY</th>\n      <th>RT_TYPE</th>\n      <th>FOREIGN_AMOUNT</th>\n      <th>RATE_DIV</th>\n      <th>RATE_MULT</th>\n      <th>PROCESS_INSTANCE</th>\n      <th>DOC_TYPE</th>\n      <th>DOC_SEQ_NBR</th>\n      <th>DOC_SEQ_DATE</th>\n      <th>DOC_SEQ_STATUS</th>\n      <th>JRNL_LINE_SOURCE</th>\n      <th>BUDGET_DT</th>\n      <th>BUDGET_LINE_STATUS</th>\n      <th>CLOSING_STATUS</th>\n      <th>ENTRY_EVENT</th>\n      <th>EE_PROC_STATUS</th>\n      <th>JOURNAL_LINE_GFEE</th>\n      <th>IU_TRAN_GRP_NBR</th>\n      <th>IU_ANCHOR_FLG</th>\n    </tr>\n  </thead>\n  <tbody>\n    <tr>\n      <th>0</th>\n      <td>VTN01</td>\n      <td>0000066578</td>\n      <td>2020-04-30 00:00:00</td>\n      <td>0</td>\n      <td>709</td>\n      <td>BUDGET</td>\n      <td>452001</td>\n      <td>NaN</td>\n      <td>110030.0</td>\n      <td>NaN</td>\n      <td>OPD</td>\n      <td>NaN</td>\n      <td>TH</td>\n      <td>NaN</td>\n      <td>NaN</td>\n      <td>NaN</td>\n      <td>NaN</td>\n      <td>NaN</td>\n      <td>2SPI</td>\n      <td>2SPI</td>\n      <td>2SPI</td>\n      <td>NaN</td>\n      <td>NaN</td>\n      <td>NaN</td>\n      <td>NaN</td>\n      <td>THB</td>\n      <td>NaN</td>\n      <td>NaN</td>\n      <td>NaN</td>\n      <td>NaN</td>\n      <td>NaN</td>\n      <td>NaN</td>\n      <td>NaN</td>\n      <td>NaN</td>\n      <td>-21532.85</td>\n      <td>N</td>\n      <td>0.0</td>\n      <td>NaN</td>\n      <td>0</td>\n      <td>LABORATORY SERVICE CHARGE</td>\n      <td>0</td>\n      <td>2020-04-30 00:00:00</td>\n      <td>THB</td>\n      <td>NaN</td>\n      <td>-21532.85</td>\n      <td>1.0</td>\n      <td>1.0</td>\n      <td>2206983</td>\n      <td>NaN</td>\n      <td>NaN</td>\n      <td>2020-05-06 00:00:00</td>\n      <td>NaN</td>\n      <td>NVS</td>\n      <td>2020-04-30 00:00:00</td>\n      <td>N</td>\n      <td>NaN</td>\n      <td>NaN</td>\n      <td>Y</td>\n      <td>0</td>\n      <td>0</td>\n      <td>N</td>\n    </tr>\n    <tr>\n      <th>1</th>\n      <td>VTN01</td>\n      <td>0000066578</td>\n      <td>2020-04-30 00:00:00</td>\n      <td>0</td>\n      <td>710</td>\n      <td>BUDGET</td>\n      <td>452004</td>\n      <td>NaN</td>\n      <td>110030.0</td>\n      <td>NaN</td>\n      <td>OPD</td>\n      <td>NaN</td>\n      <td>TH</td>\n      <td>NaN</td>\n      <td>NaN</td>\n      <td>NaN</td>\n      <td>NaN</td>\n      <td>NaN</td>\n      <td>2SPI</td>\n      <td>2SPI</td>\n      <td>2SPI</td>\n      <td>NaN</td>\n      <td>NaN</td>\n      <td>NaN</td>\n      <td>NaN</td>\n      <td>THB</td>\n      <td>NaN</td>\n      <td>NaN</td>\n      <td>NaN</td>\n      <td>NaN</td>\n      <td>NaN</td>\n      <td>NaN</td>\n      <td>NaN</td>\n      <td>NaN</td>\n      <td>-468.83</td>\n      <td>N</td>\n      <td>0.0</td>\n      <td>NaN</td>\n      <td>0</td>\n      <td>LABORATORY CHARGE - OUTSOURCE</td>\n      <td>0</td>\n      <td>2020-04-30 00:00:00</td>\n      <td>THB</td>\n      <td>NaN</td>\n      <td>-468.83</td>\n      <td>1.0</td>\n      <td>1.0</td>\n      <td>2206983</td>\n      <td>NaN</td>\n      <td>NaN</td>\n      <td>2020-05-06 00:00:00</td>\n      <td>NaN</td>\n      <td>NVS</td>\n      <td>2020-04-30 00:00:00</td>\n      <td>N</td>\n      <td>NaN</td>\n      <td>NaN</td>\n      <td>Y</td>\n      <td>0</td>\n      <td>0</td>\n      <td>N</td>\n    </tr>\n    <tr>\n      <th>2</th>\n      <td>VTN01</td>\n      <td>0000066578</td>\n      <td>2020-04-30 00:00:00</td>\n      <td>0</td>\n      <td>711</td>\n      <td>BUDGET</td>\n      <td>453001</td>\n      <td>NaN</td>\n      <td>110030.0</td>\n      <td>NaN</td>\n      <td>OPD</td>\n      <td>NaN</td>\n      <td>TH</td>\n      <td>NaN</td>\n      <td>NaN</td>\n      <td>NaN</td>\n      <td>NaN</td>\n      <td>NaN</td>\n      <td>2SPI</td>\n      <td>2SPI</td>\n      <td>2SPI</td>\n      <td>NaN</td>\n      <td>NaN</td>\n      <td>NaN</td>\n      <td>NaN</td>\n      <td>THB</td>\n      <td>NaN</td>\n      <td>NaN</td>\n      <td>NaN</td>\n      <td>NaN</td>\n      <td>NaN</td>\n      <td>NaN</td>\n      <td>NaN</td>\n      <td>NaN</td>\n      <td>-238592.57</td>\n      <td>N</td>\n      <td>0.0</td>\n      <td>NaN</td>\n      <td>0</td>\n      <td>PHYSICAL THERAPY CHARGE</td>\n      <td>0</td>\n      <td>2020-04-30 00:00:00</td>\n      <td>THB</td>\n      <td>NaN</td>\n      <td>-238592.57</td>\n      <td>1.0</td>\n      <td>1.0</td>\n      <td>2206983</td>\n      <td>NaN</td>\n      <td>NaN</td>\n      <td>2020-05-06 00:00:00</td>\n      <td>NaN</td>\n      <td>NVS</td>\n      <td>2020-04-30 00:00:00</td>\n      <td>N</td>\n      <td>NaN</td>\n      <td>NaN</td>\n      <td>Y</td>\n      <td>0</td>\n      <td>0</td>\n      <td>N</td>\n    </tr>\n    <tr>\n      <th>3</th>\n      <td>VTN01</td>\n      <td>0000066578</td>\n      <td>2020-04-30 00:00:00</td>\n      <td>0</td>\n      <td>712</td>\n      <td>BUDGET</td>\n      <td>454002</td>\n      <td>NaN</td>\n      <td>110030.0</td>\n      <td>NaN</td>\n      <td>OPD</td>\n      <td>NaN</td>\n      <td>TH</td>\n      <td>NaN</td>\n      <td>NaN</td>\n      <td>NaN</td>\n      <td>NaN</td>\n      <td>NaN</td>\n      <td>2SPI</td>\n      <td>2SPI</td>\n      <td>2SPI</td>\n      <td>NaN</td>\n      <td>NaN</td>\n      <td>NaN</td>\n      <td>NaN</td>\n      <td>THB</td>\n      <td>NaN</td>\n      <td>NaN</td>\n      <td>NaN</td>\n      <td>NaN</td>\n      <td>NaN</td>\n      <td>NaN</td>\n      <td>NaN</td>\n      <td>NaN</td>\n      <td>-203.98</td>\n      <td>N</td>\n      <td>0.0</td>\n      <td>NaN</td>\n      <td>0</td>\n      <td>EKG CHARGE</td>\n      <td>0</td>\n      <td>2020-04-30 00:00:00</td>\n      <td>THB</td>\n      <td>NaN</td>\n      <td>-203.98</td>\n      <td>1.0</td>\n      <td>1.0</td>\n      <td>2206983</td>\n      <td>NaN</td>\n      <td>NaN</td>\n      <td>2020-05-06 00:00:00</td>\n      <td>NaN</td>\n      <td>NVS</td>\n      <td>2020-04-30 00:00:00</td>\n      <td>N</td>\n      <td>NaN</td>\n      <td>NaN</td>\n      <td>Y</td>\n      <td>0</td>\n      <td>0</td>\n      <td>N</td>\n    </tr>\n    <tr>\n      <th>4</th>\n      <td>VTN01</td>\n      <td>0000066578</td>\n      <td>2020-04-30 00:00:00</td>\n      <td>0</td>\n      <td>713</td>\n      <td>BUDGET</td>\n      <td>455001</td>\n      <td>NaN</td>\n      <td>110030.0</td>\n      <td>NaN</td>\n      <td>OPD</td>\n      <td>NaN</td>\n      <td>TH</td>\n      <td>NaN</td>\n      <td>NaN</td>\n      <td>NaN</td>\n      <td>NaN</td>\n      <td>NaN</td>\n      <td>2SPI</td>\n      <td>2SPI</td>\n      <td>2SPI</td>\n      <td>NaN</td>\n      <td>NaN</td>\n      <td>NaN</td>\n      <td>NaN</td>\n      <td>THB</td>\n      <td>NaN</td>\n      <td>NaN</td>\n      <td>NaN</td>\n      <td>NaN</td>\n      <td>NaN</td>\n      <td>NaN</td>\n      <td>NaN</td>\n      <td>NaN</td>\n      <td>-10610.93</td>\n      <td>N</td>\n      <td>0.0</td>\n      <td>NaN</td>\n      <td>0</td>\n      <td>NURSE SERVICE CHARGE</td>\n      <td>0</td>\n      <td>2020-04-30 00:00:00</td>\n      <td>THB</td>\n      <td>NaN</td>\n      <td>-10610.93</td>\n      <td>1.0</td>\n      <td>1.0</td>\n      <td>2206983</td>\n      <td>NaN</td>\n      <td>NaN</td>\n      <td>2020-05-06 00:00:00</td>\n      <td>NaN</td>\n      <td>NVS</td>\n      <td>2020-04-30 00:00:00</td>\n      <td>N</td>\n      <td>NaN</td>\n      <td>NaN</td>\n      <td>Y</td>\n      <td>0</td>\n      <td>0</td>\n      <td>N</td>\n    </tr>\n    <tr>\n      <th>...</th>\n      <td>...</td>\n      <td>...</td>\n      <td>...</td>\n      <td>...</td>\n      <td>...</td>\n      <td>...</td>\n      <td>...</td>\n      <td>...</td>\n      <td>...</td>\n      <td>...</td>\n      <td>...</td>\n      <td>...</td>\n      <td>...</td>\n      <td>...</td>\n      <td>...</td>\n      <td>...</td>\n      <td>...</td>\n      <td>...</td>\n      <td>...</td>\n      <td>...</td>\n      <td>...</td>\n      <td>...</td>\n      <td>...</td>\n      <td>...</td>\n      <td>...</td>\n      <td>...</td>\n      <td>...</td>\n      <td>...</td>\n      <td>...</td>\n      <td>...</td>\n      <td>...</td>\n      <td>...</td>\n      <td>...</td>\n      <td>...</td>\n      <td>...</td>\n      <td>...</td>\n      <td>...</td>\n      <td>...</td>\n      <td>...</td>\n      <td>...</td>\n      <td>...</td>\n      <td>...</td>\n      <td>...</td>\n      <td>...</td>\n      <td>...</td>\n      <td>...</td>\n      <td>...</td>\n      <td>...</td>\n      <td>...</td>\n      <td>...</td>\n      <td>...</td>\n      <td>...</td>\n      <td>...</td>\n      <td>...</td>\n      <td>...</td>\n      <td>...</td>\n      <td>...</td>\n      <td>...</td>\n      <td>...</td>\n      <td>...</td>\n      <td>...</td>\n    </tr>\n    <tr>\n      <th>85618</th>\n      <td>VTN01</td>\n      <td>0000066583</td>\n      <td>2020-09-30 00:00:00</td>\n      <td>0</td>\n      <td>6899</td>\n      <td>BUDGET</td>\n      <td>481006</td>\n      <td>NaN</td>\n      <td>110081.0</td>\n      <td>NaN</td>\n      <td>IPD</td>\n      <td>NaN</td>\n      <td>MY</td>\n      <td>NaN</td>\n      <td>NaN</td>\n      <td>NaN</td>\n      <td>NaN</td>\n      <td>NaN</td>\n      <td>2BRC</td>\n      <td>2BRC</td>\n      <td>2BRC</td>\n      <td>NaN</td>\n      <td>NaN</td>\n      <td>NaN</td>\n      <td>NaN</td>\n      <td>THB</td>\n      <td>NaN</td>\n      <td>NaN</td>\n      <td>NaN</td>\n      <td>NaN</td>\n      <td>NaN</td>\n      <td>NaN</td>\n      <td>NaN</td>\n      <td>NaN</td>\n      <td>75.62</td>\n      <td>N</td>\n      <td>0.0</td>\n      <td>NaN</td>\n      <td>0</td>\n      <td>DISCOUNT- MEDICAL SUPPLY - GAS</td>\n      <td>0</td>\n      <td>2020-09-30 00:00:00</td>\n      <td>THB</td>\n      <td>NaN</td>\n      <td>75.62</td>\n      <td>1.0</td>\n      <td>1.0</td>\n      <td>2207011</td>\n      <td>NaN</td>\n      <td>NaN</td>\n      <td>2020-05-06 00:00:00</td>\n      <td>NaN</td>\n      <td>NVS</td>\n      <td>2020-09-30 00:00:00</td>\n      <td>N</td>\n      <td>NaN</td>\n      <td>NaN</td>\n      <td>Y</td>\n      <td>0</td>\n      <td>0</td>\n      <td>N</td>\n    </tr>\n    <tr>\n      <th>85619</th>\n      <td>VTN01</td>\n      <td>0000066583</td>\n      <td>2020-09-30 00:00:00</td>\n      <td>0</td>\n      <td>6900</td>\n      <td>BUDGET</td>\n      <td>483001</td>\n      <td>NaN</td>\n      <td>110081.0</td>\n      <td>NaN</td>\n      <td>IPD</td>\n      <td>NaN</td>\n      <td>MY</td>\n      <td>NaN</td>\n      <td>NaN</td>\n      <td>NaN</td>\n      <td>NaN</td>\n      <td>NaN</td>\n      <td>2BRC</td>\n      <td>2BRC</td>\n      <td>2BRC</td>\n      <td>NaN</td>\n      <td>NaN</td>\n      <td>NaN</td>\n      <td>NaN</td>\n      <td>THB</td>\n      <td>NaN</td>\n      <td>NaN</td>\n      <td>NaN</td>\n      <td>NaN</td>\n      <td>NaN</td>\n      <td>NaN</td>\n      <td>NaN</td>\n      <td>NaN</td>\n      <td>132.48</td>\n      <td>N</td>\n      <td>0.0</td>\n      <td>NaN</td>\n      <td>0</td>\n      <td>DISCOUNT MED EQUIPMENT CHARGE</td>\n      <td>0</td>\n      <td>2020-09-30 00:00:00</td>\n      <td>THB</td>\n      <td>NaN</td>\n      <td>132.48</td>\n      <td>1.0</td>\n      <td>1.0</td>\n      <td>2207011</td>\n      <td>NaN</td>\n      <td>NaN</td>\n      <td>2020-05-06 00:00:00</td>\n      <td>NaN</td>\n      <td>NVS</td>\n      <td>2020-09-30 00:00:00</td>\n      <td>N</td>\n      <td>NaN</td>\n      <td>NaN</td>\n      <td>Y</td>\n      <td>0</td>\n      <td>0</td>\n      <td>N</td>\n    </tr>\n    <tr>\n      <th>85620</th>\n      <td>VTN01</td>\n      <td>0000066583</td>\n      <td>2020-09-30 00:00:00</td>\n      <td>0</td>\n      <td>6901</td>\n      <td>BUDGET</td>\n      <td>483002</td>\n      <td>NaN</td>\n      <td>110081.0</td>\n      <td>NaN</td>\n      <td>IPD</td>\n      <td>NaN</td>\n      <td>MY</td>\n      <td>NaN</td>\n      <td>NaN</td>\n      <td>NaN</td>\n      <td>NaN</td>\n      <td>NaN</td>\n      <td>2BRC</td>\n      <td>2BRC</td>\n      <td>2BRC</td>\n      <td>NaN</td>\n      <td>NaN</td>\n      <td>NaN</td>\n      <td>NaN</td>\n      <td>THB</td>\n      <td>NaN</td>\n      <td>NaN</td>\n      <td>NaN</td>\n      <td>NaN</td>\n      <td>NaN</td>\n      <td>NaN</td>\n      <td>NaN</td>\n      <td>NaN</td>\n      <td>193.61</td>\n      <td>N</td>\n      <td>0.0</td>\n      <td>NaN</td>\n      <td>0</td>\n      <td>DISCOUNT MED EQUIPMENT-OR CHAR</td>\n      <td>0</td>\n      <td>2020-09-30 00:00:00</td>\n      <td>THB</td>\n      <td>NaN</td>\n      <td>193.61</td>\n      <td>1.0</td>\n      <td>1.0</td>\n      <td>2207011</td>\n      <td>NaN</td>\n      <td>NaN</td>\n      <td>2020-05-06 00:00:00</td>\n      <td>NaN</td>\n      <td>NVS</td>\n      <td>2020-09-30 00:00:00</td>\n      <td>N</td>\n      <td>NaN</td>\n      <td>NaN</td>\n      <td>Y</td>\n      <td>0</td>\n      <td>0</td>\n      <td>N</td>\n    </tr>\n    <tr>\n      <th>85621</th>\n      <td>VTN01</td>\n      <td>0000066583</td>\n      <td>2020-09-30 00:00:00</td>\n      <td>0</td>\n      <td>6902</td>\n      <td>BUDGET</td>\n      <td>484102</td>\n      <td>NaN</td>\n      <td>110081.0</td>\n      <td>NaN</td>\n      <td>IPD</td>\n      <td>NaN</td>\n      <td>MY</td>\n      <td>NaN</td>\n      <td>NaN</td>\n      <td>NaN</td>\n      <td>NaN</td>\n      <td>NaN</td>\n      <td>2BRC</td>\n      <td>2BRC</td>\n      <td>2BRC</td>\n      <td>NaN</td>\n      <td>NaN</td>\n      <td>NaN</td>\n      <td>NaN</td>\n      <td>THB</td>\n      <td>NaN</td>\n      <td>NaN</td>\n      <td>NaN</td>\n      <td>NaN</td>\n      <td>NaN</td>\n      <td>NaN</td>\n      <td>NaN</td>\n      <td>NaN</td>\n      <td>339.21</td>\n      <td>N</td>\n      <td>0.0</td>\n      <td>NaN</td>\n      <td>0</td>\n      <td>DISC GRAND SINGLE ROOM CHARGE</td>\n      <td>0</td>\n      <td>2020-09-30 00:00:00</td>\n      <td>THB</td>\n      <td>NaN</td>\n      <td>339.21</td>\n      <td>1.0</td>\n      <td>1.0</td>\n      <td>2207011</td>\n      <td>NaN</td>\n      <td>NaN</td>\n      <td>2020-05-06 00:00:00</td>\n      <td>NaN</td>\n      <td>NVS</td>\n      <td>2020-09-30 00:00:00</td>\n      <td>N</td>\n      <td>NaN</td>\n      <td>NaN</td>\n      <td>Y</td>\n      <td>0</td>\n      <td>0</td>\n      <td>N</td>\n    </tr>\n    <tr>\n      <th>85622</th>\n      <td>VTN01</td>\n      <td>0000066583</td>\n      <td>2020-09-30 00:00:00</td>\n      <td>0</td>\n      <td>6880</td>\n      <td>BUDGET</td>\n      <td>441006</td>\n      <td>NaN</td>\n      <td>110081.0</td>\n      <td>NaN</td>\n      <td>IPD</td>\n      <td>NaN</td>\n      <td>MY</td>\n      <td>NaN</td>\n      <td>NaN</td>\n      <td>NaN</td>\n      <td>NaN</td>\n      <td>NaN</td>\n      <td>2BRC</td>\n      <td>2BRC</td>\n      <td>2BRC</td>\n      <td>NaN</td>\n      <td>NaN</td>\n      <td>NaN</td>\n      <td>NaN</td>\n      <td>THB</td>\n      <td>NaN</td>\n      <td>NaN</td>\n      <td>NaN</td>\n      <td>NaN</td>\n      <td>NaN</td>\n      <td>NaN</td>\n      <td>NaN</td>\n      <td>NaN</td>\n      <td>-140.79</td>\n      <td>N</td>\n      <td>0.0</td>\n      <td>NaN</td>\n      <td>0</td>\n      <td>OTHER ROOM CHARGE</td>\n      <td>0</td>\n      <td>2020-09-30 00:00:00</td>\n      <td>THB</td>\n      <td>NaN</td>\n      <td>-140.79</td>\n      <td>1.0</td>\n      <td>1.0</td>\n      <td>2207011</td>\n      <td>NaN</td>\n      <td>NaN</td>\n      <td>2020-05-06 00:00:00</td>\n      <td>NaN</td>\n      <td>NVS</td>\n      <td>2020-09-30 00:00:00</td>\n      <td>N</td>\n      <td>NaN</td>\n      <td>NaN</td>\n      <td>Y</td>\n      <td>0</td>\n      <td>0</td>\n      <td>N</td>\n    </tr>\n  </tbody>\n</table>\n<p>85623 rows × 61 columns</p>\n</div>"
     },
     "execution_count": 3,
     "metadata": {},
     "output_type": "execute_result"
    }
   ],
   "source": [
    "budget2023"
   ],
   "metadata": {
    "collapsed": false,
    "ExecuteTime": {
     "end_time": "2024-09-23T08:21:51.329347Z",
     "start_time": "2024-09-23T08:21:51.267433Z"
    }
   },
   "id": "9e4a03487df4b901",
   "execution_count": 3
  },
  {
   "cell_type": "code",
   "outputs": [
    {
     "data": {
      "text/plain": "BUSINESS_UNIT             1\nJOURNAL_ID               14\nJOURNAL_DATE             12\nUNPOST_SEQ                2\nJOURNAL_LINE           7142\nLEDGER                    1\nACCOUNT                 133\nALTACCT                   1\nDEPTID                   34\nOPERATING_UNIT            1\nPRODUCT                   3\nFUND_CODE                 1\nCLASS_FLD                 4\nPROGRAM_CODE              1\nBUDGET_REF                1\nAFFILIATE                 1\nAFFILIATE_INTRA1          1\nAFFILIATE_INTRA2          1\nCHARTFIELD1              33\nCHARTFIELD2              33\nCHARTFIELD3              33\nBOOK_CODE                 1\nGL_ADJUST_TYPE            1\nBUDGET_PERIOD             1\nSCENARIO                  1\nCURRENCY_CD               1\nBUSINESS_UNIT_PC          1\nPROJECT_ID                1\nACTIVITY_ID               1\nRESOURCE_TYPE             1\nRESOURCE_CATEGORY         1\nRESOURCE_SUB_CAT          1\nANALYSIS_TYPE             1\nSTATISTICS_CODE           1\nMONETARY_AMOUNT       63432\nMOVEMENT_FLAG             1\nSTATISTIC_AMOUNT          1\nJRNL_LN_REF               1\nSUSPENDED_LINE            1\nLINE_DESCR              133\nJRNL_LINE_STATUS          1\nJOURNAL_LINE_DATE        12\nFOREIGN_CURRENCY          1\nRT_TYPE                   1\nFOREIGN_AMOUNT        63432\nRATE_DIV                  1\nRATE_MULT                 1\nPROCESS_INSTANCE         15\nDOC_TYPE                  1\nDOC_SEQ_NBR               1\nDOC_SEQ_DATE              4\nDOC_SEQ_STATUS            2\nJRNL_LINE_SOURCE          2\nBUDGET_DT                12\nBUDGET_LINE_STATUS        1\nCLOSING_STATUS            1\nENTRY_EVENT               1\nEE_PROC_STATUS            1\nJOURNAL_LINE_GFEE         1\nIU_TRAN_GRP_NBR           1\nIU_ANCHOR_FLG             1\ndtype: int64"
     },
     "execution_count": 4,
     "metadata": {},
     "output_type": "execute_result"
    }
   ],
   "source": [
    "budget2023.apply(lambda x: len(x.unique()))"
   ],
   "metadata": {
    "collapsed": false,
    "ExecuteTime": {
     "end_time": "2024-09-23T08:22:01.812091Z",
     "start_time": "2024-09-23T08:22:01.748585Z"
    }
   },
   "id": "bbecec6c6a77718d",
   "execution_count": 4
  },
  {
   "cell_type": "code",
   "outputs": [
    {
     "data": {
      "text/plain": "JOURNAL_ID  JOURNAL_LINE  UNPOST_SEQ  ACCOUNT\n0000064734  1             0           400001     1\n0000066583  31            0           469901     1\n            29            0           460008     1\n            28            0           460002     1\n            27            0           455005     1\n                                                ..\n0000066579  22            0           452004     1\n            21            0           452001     1\n            20            0           451006     1\n            19            0           451005     1\nGL20002679  4             0           400001     1\nName: count, Length: 85623, dtype: int64"
     },
     "execution_count": 12,
     "metadata": {},
     "output_type": "execute_result"
    }
   ],
   "source": [
    "budget2023[['JOURNAL_ID','JOURNAL_LINE','UNPOST_SEQ', 'ACCOUNT']].value_counts()"
   ],
   "metadata": {
    "collapsed": false,
    "ExecuteTime": {
     "end_time": "2024-09-23T08:24:58.401980Z",
     "start_time": "2024-09-23T08:24:58.365644Z"
    }
   },
   "id": "1b4343b7f80962ab",
   "execution_count": 12
  },
  {
   "cell_type": "code",
   "outputs": [],
   "source": [
    "from itertools import combinations\n",
    "\n",
    "def find_unique_combinations(df, cols):\n",
    "    for r in range(1, len(cols) + 1):\n",
    "        for combo in combinations(cols, r):\n",
    "            # print(f\"Checking combination: {combo}\")\n",
    "            \n",
    "            # Create a combined key based on selected columns\n",
    "            combined_key = df[list(combo)].apply(tuple, axis=1)\n",
    "            # print(combined_key)\n",
    "            # print(combined_key.nunique())\n",
    "            \n",
    "            # Check if the combination of columns is unique\n",
    "            if combined_key.nunique() == len(df):\n",
    "                print(f\"Unique combination: {combo}\")\n",
    "    print(\"End of search\")"
   ],
   "metadata": {
    "collapsed": false,
    "ExecuteTime": {
     "end_time": "2024-09-23T08:23:30.521216Z",
     "start_time": "2024-09-23T08:23:30.509742Z"
    }
   },
   "id": "3690320ccf03315",
   "execution_count": 9
  },
  {
   "cell_type": "code",
   "outputs": [
    {
     "name": "stdout",
     "output_type": "stream",
     "text": [
      "Unique combination: ('JOURNAL_ID', 'JOURNAL_LINE', 'UNPOST_SEQ')\n",
      "Unique combination: ('JOURNAL_ID', 'JOURNAL_LINE', 'UNPOST_SEQ', 'ACCOUNT')\n",
      "End of search\n"
     ]
    }
   ],
   "source": [
    "find_unique_combinations(budget2023, ['JOURNAL_ID','JOURNAL_LINE','UNPOST_SEQ', 'ACCOUNT'])"
   ],
   "metadata": {
    "collapsed": false,
    "ExecuteTime": {
     "end_time": "2024-09-23T08:25:07.264547Z",
     "start_time": "2024-09-23T08:25:04.463764Z"
    }
   },
   "id": "661fe97a53904dea",
   "execution_count": 13
  },
  {
   "cell_type": "code",
   "outputs": [],
   "source": [],
   "metadata": {
    "collapsed": false
   },
   "id": "5b422c4a92e54d76"
  }
 ],
 "metadata": {
  "kernelspec": {
   "display_name": "Python 3",
   "language": "python",
   "name": "python3"
  },
  "language_info": {
   "codemirror_mode": {
    "name": "ipython",
    "version": 2
   },
   "file_extension": ".py",
   "mimetype": "text/x-python",
   "name": "python",
   "nbconvert_exporter": "python",
   "pygments_lexer": "ipython2",
   "version": "2.7.6"
  }
 },
 "nbformat": 4,
 "nbformat_minor": 5
}

{
 "cells": [
  {
   "cell_type": "code",
   "execution_count": 17,
   "id": "initial_id",
   "metadata": {
    "collapsed": true,
    "ExecuteTime": {
     "end_time": "2024-11-27T02:15:25.484057Z",
     "start_time": "2024-11-27T02:15:25.452563Z"
    }
   },
   "outputs": [],
   "source": [
    "import pandas as pd\n",
    "import json\n",
    "import boto3\n",
    "import awswrangler as wr\n",
    "from tool import find_unique_combinations\n",
    "import sqlite3\n",
    "pd.options.display.max_rows = 1000\n",
    "pd.options.display.max_columns = 100\n",
    "\n",
    "boto3.setup_default_session(profile_name='vej')"
   ]
  },
  {
   "cell_type": "code",
   "outputs": [
    {
     "data": {
      "text/plain": "       business_unit invoice_no_receipt_no invoice_date__receipt_date  \\\n0              VTN01             D66017362                 05/12/2023   \n1              VTN01             D66017363                 05/12/2023   \n2              VTN01             D66017364                 05/12/2023   \n3              VTN01             D66017365                 05/12/2023   \n4              VTN01             D66017366                 05/12/2023   \n...              ...                   ...                        ...   \n572669         VTN01             O67156192                 29/10/2024   \n572670         VTN01             O67156202                 29/10/2024   \n572671         VTN01             O67156210                 29/10/2024   \n572672         VTN01             O67156260                 29/10/2024   \n572673         VTN01             O67156284                 29/10/2024   \n\n        episode_no document_type payment_method customer_code customer_type  \\\n0             None           DEP            CRC          None          None   \n1             None           DEP            CSH          None          None   \n2             None           DEP            CRC          None          None   \n3             None           DEP            CRC          None          None   \n4             None           DEP            CRC          None          None   \n...            ...           ...            ...           ...           ...   \n572669        None          RDEP            CSH          None          None   \n572670        None          RDEP            CSH          None          None   \n572671  O24-214282          RDEP            CSH   0104690001A          None   \n572672  O24-214459          RDEP            CSH   0104690001A          None   \n572673  O24-214447          RDEP            CSH   0104690001A          None   \n\n       patient_code__hn                            patient_name  \\\n0             23-027963                       พ.อ.ท. สมาน ทัศนา   \n1             18-010569                           น.ส. หมวย VFC   \n2             15-005803                       น.ส. ศุภวาร มรรคา   \n3             23-027976  Mr Zahran Saeed Zahran Hamed Alhaatemi   \n4             23-027975                     Mr Anas Omar S Adam   \n...                 ...                                     ...   \n572669        18-010569                           น.ส. หมวย VFC   \n572670        18-010569                           น.ส. หมวย VFC   \n572671        24-024478                Mrs Nwayer Kh M D Alazmi   \n572672        22-026047                      นาย สมาน อันนันนับ   \n572673        14-003070                 Mr HANS JUERGEN SCHMITZ   \n\n       nationality_code contact_id contact_percent currency  \\\n0                    TH       None            None      THB   \n1                    TH       None            None      THB   \n2                    TH       None            None      THB   \n3                    AR       None            None      THB   \n4                    SA       None            None      THB   \n...                 ...        ...             ...      ...   \n572669               TH       None            None      THB   \n572670               TH       None            None      THB   \n572671               KW       None            None      THB   \n572672               TH       None            None      THB   \n572673               GE       None            None      THB   \n\n        total_invoice_by_payment_method  total_invoice_amount  \\\n0                               35000.0               35000.0   \n1                                 379.0                 379.0   \n2                                 491.3                 491.3   \n3                               24000.0               24000.0   \n4                               15320.0               15320.0   \n...                                 ...                   ...   \n572669                         159000.0             -159000.0   \n572670                         113000.0             -113000.0   \n572671                           1600.0               -1600.0   \n572672                            786.0                -786.0   \n572673                            617.3                -617.3   \n\n        special_discount_by_invoice special_discount_account  \\\n0                                 0                     None   \n1                                 0                     None   \n2                                 0                     None   \n3                                 0                     None   \n4                                 0                     None   \n...                             ...                      ...   \n572669                            0                     None   \n572670                            0                     None   \n572671                            0                     None   \n572672                            0                     None   \n572673                            0                     None   \n\n       deposit_reference_no  episode_id  patient_id  bill_row_id  \\\n0                      None         NaN     1467394          NaN   \n1                      None         NaN     1240589          NaN   \n2                      None         NaN     1075907          NaN   \n3                      None         NaN     1467286          NaN   \n4                      None         NaN     1467280          NaN   \n...                     ...         ...         ...          ...   \n572669            D67015209         NaN     1240589          NaN   \n572670            D67015255         NaN     1240589          NaN   \n572671            D67015258   8858412.0     1506969   52199927.0   \n572672            D67015265   8865365.0     1425675   52200012.0   \n572673            D67015267   8865332.0     1023052   52200077.0   \n\n        receipt_row_id  payment_mode_sub_id  \\\n0            3849815.0                  2.0   \n1            3849818.0                  2.0   \n2            3849819.0                  2.0   \n3            3849831.0                  2.0   \n4            3849832.0                  2.0   \n...                ...                  ...   \n572669       4031872.0                  2.0   \n572670       4032305.0                  2.0   \n572671       4032321.0                  4.0   \n572672       4032384.0                  4.0   \n572673       4032407.0                  4.0   \n\n                                    file_name  \n0                          REVHVTN01.20231205  \n1                          REVHVTN01.20231205  \n2                          REVHVTN01.20231205  \n3                          REVHVTN01.20231205  \n4                          REVHVTN01.20231205  \n...                                       ...  \n572669  REVHVTN0120241029_20241101T143548.txt  \n572670  REVHVTN0120241029_20241101T143548.txt  \n572671  REVHVTN0120241029_20241101T143548.txt  \n572672  REVHVTN0120241029_20241101T143548.txt  \n572673  REVHVTN0120241029_20241101T143548.txt  \n\n[572674 rows x 25 columns]",
      "text/html": "<div>\n<style scoped>\n    .dataframe tbody tr th:only-of-type {\n        vertical-align: middle;\n    }\n\n    .dataframe tbody tr th {\n        vertical-align: top;\n    }\n\n    .dataframe thead th {\n        text-align: right;\n    }\n</style>\n<table border=\"1\" class=\"dataframe\">\n  <thead>\n    <tr style=\"text-align: right;\">\n      <th></th>\n      <th>business_unit</th>\n      <th>invoice_no_receipt_no</th>\n      <th>invoice_date__receipt_date</th>\n      <th>episode_no</th>\n      <th>document_type</th>\n      <th>payment_method</th>\n      <th>customer_code</th>\n      <th>customer_type</th>\n      <th>patient_code__hn</th>\n      <th>patient_name</th>\n      <th>nationality_code</th>\n      <th>contact_id</th>\n      <th>contact_percent</th>\n      <th>currency</th>\n      <th>total_invoice_by_payment_method</th>\n      <th>total_invoice_amount</th>\n      <th>special_discount_by_invoice</th>\n      <th>special_discount_account</th>\n      <th>deposit_reference_no</th>\n      <th>episode_id</th>\n      <th>patient_id</th>\n      <th>bill_row_id</th>\n      <th>receipt_row_id</th>\n      <th>payment_mode_sub_id</th>\n      <th>file_name</th>\n    </tr>\n  </thead>\n  <tbody>\n    <tr>\n      <th>0</th>\n      <td>VTN01</td>\n      <td>D66017362</td>\n      <td>05/12/2023</td>\n      <td>None</td>\n      <td>DEP</td>\n      <td>CRC</td>\n      <td>None</td>\n      <td>None</td>\n      <td>23-027963</td>\n      <td>พ.อ.ท. สมาน ทัศนา</td>\n      <td>TH</td>\n      <td>None</td>\n      <td>None</td>\n      <td>THB</td>\n      <td>35000.0</td>\n      <td>35000.0</td>\n      <td>0</td>\n      <td>None</td>\n      <td>None</td>\n      <td>NaN</td>\n      <td>1467394</td>\n      <td>NaN</td>\n      <td>3849815.0</td>\n      <td>2.0</td>\n      <td>REVHVTN01.20231205</td>\n    </tr>\n    <tr>\n      <th>1</th>\n      <td>VTN01</td>\n      <td>D66017363</td>\n      <td>05/12/2023</td>\n      <td>None</td>\n      <td>DEP</td>\n      <td>CSH</td>\n      <td>None</td>\n      <td>None</td>\n      <td>18-010569</td>\n      <td>น.ส. หมวย VFC</td>\n      <td>TH</td>\n      <td>None</td>\n      <td>None</td>\n      <td>THB</td>\n      <td>379.0</td>\n      <td>379.0</td>\n      <td>0</td>\n      <td>None</td>\n      <td>None</td>\n      <td>NaN</td>\n      <td>1240589</td>\n      <td>NaN</td>\n      <td>3849818.0</td>\n      <td>2.0</td>\n      <td>REVHVTN01.20231205</td>\n    </tr>\n    <tr>\n      <th>2</th>\n      <td>VTN01</td>\n      <td>D66017364</td>\n      <td>05/12/2023</td>\n      <td>None</td>\n      <td>DEP</td>\n      <td>CRC</td>\n      <td>None</td>\n      <td>None</td>\n      <td>15-005803</td>\n      <td>น.ส. ศุภวาร มรรคา</td>\n      <td>TH</td>\n      <td>None</td>\n      <td>None</td>\n      <td>THB</td>\n      <td>491.3</td>\n      <td>491.3</td>\n      <td>0</td>\n      <td>None</td>\n      <td>None</td>\n      <td>NaN</td>\n      <td>1075907</td>\n      <td>NaN</td>\n      <td>3849819.0</td>\n      <td>2.0</td>\n      <td>REVHVTN01.20231205</td>\n    </tr>\n    <tr>\n      <th>3</th>\n      <td>VTN01</td>\n      <td>D66017365</td>\n      <td>05/12/2023</td>\n      <td>None</td>\n      <td>DEP</td>\n      <td>CRC</td>\n      <td>None</td>\n      <td>None</td>\n      <td>23-027976</td>\n      <td>Mr Zahran Saeed Zahran Hamed Alhaatemi</td>\n      <td>AR</td>\n      <td>None</td>\n      <td>None</td>\n      <td>THB</td>\n      <td>24000.0</td>\n      <td>24000.0</td>\n      <td>0</td>\n      <td>None</td>\n      <td>None</td>\n      <td>NaN</td>\n      <td>1467286</td>\n      <td>NaN</td>\n      <td>3849831.0</td>\n      <td>2.0</td>\n      <td>REVHVTN01.20231205</td>\n    </tr>\n    <tr>\n      <th>4</th>\n      <td>VTN01</td>\n      <td>D66017366</td>\n      <td>05/12/2023</td>\n      <td>None</td>\n      <td>DEP</td>\n      <td>CRC</td>\n      <td>None</td>\n      <td>None</td>\n      <td>23-027975</td>\n      <td>Mr Anas Omar S Adam</td>\n      <td>SA</td>\n      <td>None</td>\n      <td>None</td>\n      <td>THB</td>\n      <td>15320.0</td>\n      <td>15320.0</td>\n      <td>0</td>\n      <td>None</td>\n      <td>None</td>\n      <td>NaN</td>\n      <td>1467280</td>\n      <td>NaN</td>\n      <td>3849832.0</td>\n      <td>2.0</td>\n      <td>REVHVTN01.20231205</td>\n    </tr>\n    <tr>\n      <th>...</th>\n      <td>...</td>\n      <td>...</td>\n      <td>...</td>\n      <td>...</td>\n      <td>...</td>\n      <td>...</td>\n      <td>...</td>\n      <td>...</td>\n      <td>...</td>\n      <td>...</td>\n      <td>...</td>\n      <td>...</td>\n      <td>...</td>\n      <td>...</td>\n      <td>...</td>\n      <td>...</td>\n      <td>...</td>\n      <td>...</td>\n      <td>...</td>\n      <td>...</td>\n      <td>...</td>\n      <td>...</td>\n      <td>...</td>\n      <td>...</td>\n      <td>...</td>\n    </tr>\n    <tr>\n      <th>572669</th>\n      <td>VTN01</td>\n      <td>O67156192</td>\n      <td>29/10/2024</td>\n      <td>None</td>\n      <td>RDEP</td>\n      <td>CSH</td>\n      <td>None</td>\n      <td>None</td>\n      <td>18-010569</td>\n      <td>น.ส. หมวย VFC</td>\n      <td>TH</td>\n      <td>None</td>\n      <td>None</td>\n      <td>THB</td>\n      <td>159000.0</td>\n      <td>-159000.0</td>\n      <td>0</td>\n      <td>None</td>\n      <td>D67015209</td>\n      <td>NaN</td>\n      <td>1240589</td>\n      <td>NaN</td>\n      <td>4031872.0</td>\n      <td>2.0</td>\n      <td>REVHVTN0120241029_20241101T143548.txt</td>\n    </tr>\n    <tr>\n      <th>572670</th>\n      <td>VTN01</td>\n      <td>O67156202</td>\n      <td>29/10/2024</td>\n      <td>None</td>\n      <td>RDEP</td>\n      <td>CSH</td>\n      <td>None</td>\n      <td>None</td>\n      <td>18-010569</td>\n      <td>น.ส. หมวย VFC</td>\n      <td>TH</td>\n      <td>None</td>\n      <td>None</td>\n      <td>THB</td>\n      <td>113000.0</td>\n      <td>-113000.0</td>\n      <td>0</td>\n      <td>None</td>\n      <td>D67015255</td>\n      <td>NaN</td>\n      <td>1240589</td>\n      <td>NaN</td>\n      <td>4032305.0</td>\n      <td>2.0</td>\n      <td>REVHVTN0120241029_20241101T143548.txt</td>\n    </tr>\n    <tr>\n      <th>572671</th>\n      <td>VTN01</td>\n      <td>O67156210</td>\n      <td>29/10/2024</td>\n      <td>O24-214282</td>\n      <td>RDEP</td>\n      <td>CSH</td>\n      <td>0104690001A</td>\n      <td>None</td>\n      <td>24-024478</td>\n      <td>Mrs Nwayer Kh M D Alazmi</td>\n      <td>KW</td>\n      <td>None</td>\n      <td>None</td>\n      <td>THB</td>\n      <td>1600.0</td>\n      <td>-1600.0</td>\n      <td>0</td>\n      <td>None</td>\n      <td>D67015258</td>\n      <td>8858412.0</td>\n      <td>1506969</td>\n      <td>52199927.0</td>\n      <td>4032321.0</td>\n      <td>4.0</td>\n      <td>REVHVTN0120241029_20241101T143548.txt</td>\n    </tr>\n    <tr>\n      <th>572672</th>\n      <td>VTN01</td>\n      <td>O67156260</td>\n      <td>29/10/2024</td>\n      <td>O24-214459</td>\n      <td>RDEP</td>\n      <td>CSH</td>\n      <td>0104690001A</td>\n      <td>None</td>\n      <td>22-026047</td>\n      <td>นาย สมาน อันนันนับ</td>\n      <td>TH</td>\n      <td>None</td>\n      <td>None</td>\n      <td>THB</td>\n      <td>786.0</td>\n      <td>-786.0</td>\n      <td>0</td>\n      <td>None</td>\n      <td>D67015265</td>\n      <td>8865365.0</td>\n      <td>1425675</td>\n      <td>52200012.0</td>\n      <td>4032384.0</td>\n      <td>4.0</td>\n      <td>REVHVTN0120241029_20241101T143548.txt</td>\n    </tr>\n    <tr>\n      <th>572673</th>\n      <td>VTN01</td>\n      <td>O67156284</td>\n      <td>29/10/2024</td>\n      <td>O24-214447</td>\n      <td>RDEP</td>\n      <td>CSH</td>\n      <td>0104690001A</td>\n      <td>None</td>\n      <td>14-003070</td>\n      <td>Mr HANS JUERGEN SCHMITZ</td>\n      <td>GE</td>\n      <td>None</td>\n      <td>None</td>\n      <td>THB</td>\n      <td>617.3</td>\n      <td>-617.3</td>\n      <td>0</td>\n      <td>None</td>\n      <td>D67015267</td>\n      <td>8865332.0</td>\n      <td>1023052</td>\n      <td>52200077.0</td>\n      <td>4032407.0</td>\n      <td>4.0</td>\n      <td>REVHVTN0120241029_20241101T143548.txt</td>\n    </tr>\n  </tbody>\n</table>\n<p>572674 rows × 25 columns</p>\n</div>"
     },
     "execution_count": 18,
     "metadata": {},
     "output_type": "execute_result"
    }
   ],
   "source": [
    "db_path = \"/Users/pongv/Desktop/tradesquareltd/vtn/TesterScript/vtnlake_onedrive_new.db\"\n",
    "table_name = \"headers_full\"\n",
    "conn = sqlite3.connect(db_path)\n",
    "head20230801 = pd.read_sql_query(f\"SELECT * FROM {table_name} \", conn)\n",
    "# where invoice_no_receipt_no != 'O66027865'\n",
    "# head20230801 = pd.read_csv('/Users/pongv/Desktop/tradesquareltd/vtn/TesterScript/data/headers/REVHVTN01.20230101', delimiter='|', header=None)\n",
    "head20230801"
   ],
   "metadata": {
    "collapsed": false,
    "ExecuteTime": {
     "end_time": "2024-11-27T02:15:28.692894Z",
     "start_time": "2024-11-27T02:15:25.460245Z"
    }
   },
   "id": "e3e9124289084bff",
   "execution_count": 18
  },
  {
   "cell_type": "code",
   "outputs": [],
   "source": [
    "head20230801.columns = [\n",
    "                    'business_unit',\n",
    "                    'invoice_no_receipt_no',\n",
    "                    'invoice_date__receipt_date',\n",
    "                    'episode_no',\n",
    "                    'document_type',\n",
    "                    'payment_method',\n",
    "                    'customer_code',\n",
    "                    'customer_type',\n",
    "                    'patient_code__hn',\n",
    "                    'patient_name',\n",
    "                    'nationality_code',\n",
    "                    'contact_id',\n",
    "                    'contact_percent',\n",
    "                    'currency',\n",
    "\n",
    "                    'total_invoice_by_payment_method',\n",
    "                    'total_invoice_amount',\n",
    "                    'special_discount_by_invoice',\n",
    "                    'special_discount_account',\n",
    "                    'deposit_reference_no',\n",
    "                    'episode_id',\n",
    "                    'patient_id',\n",
    "                    'bill_row_id',\n",
    "                    \"receipt_row_id\",\n",
    "                    \"payment_mode_sub_id\",\n",
    "                    \"file_name\"\n",
    "    ]"
   ],
   "metadata": {
    "collapsed": false,
    "ExecuteTime": {
     "end_time": "2024-11-27T02:15:28.696031Z",
     "start_time": "2024-11-27T02:15:28.689770Z"
    }
   },
   "id": "cd588e983338fc25",
   "execution_count": 19
  },
  {
   "cell_type": "code",
   "outputs": [
    {
     "data": {
      "text/plain": "       business_unit invoice_no_receipt_no invoice_date__receipt_date  \\\n0              VTN01             D66017362                 05/12/2023   \n1              VTN01             D66017363                 05/12/2023   \n2              VTN01             D66017364                 05/12/2023   \n3              VTN01             D66017365                 05/12/2023   \n4              VTN01             D66017366                 05/12/2023   \n...              ...                   ...                        ...   \n572669         VTN01             O67156192                 29/10/2024   \n572670         VTN01             O67156202                 29/10/2024   \n572671         VTN01             O67156210                 29/10/2024   \n572672         VTN01             O67156260                 29/10/2024   \n572673         VTN01             O67156284                 29/10/2024   \n\n        episode_no document_type payment_method customer_code customer_type  \\\n0             None           DEP            CRC          None          None   \n1             None           DEP            CSH          None          None   \n2             None           DEP            CRC          None          None   \n3             None           DEP            CRC          None          None   \n4             None           DEP            CRC          None          None   \n...            ...           ...            ...           ...           ...   \n572669        None          RDEP            CSH          None          None   \n572670        None          RDEP            CSH          None          None   \n572671  O24-214282          RDEP            CSH   0104690001A          None   \n572672  O24-214459          RDEP            CSH   0104690001A          None   \n572673  O24-214447          RDEP            CSH   0104690001A          None   \n\n       patient_code__hn                            patient_name  \\\n0             23-027963                       พ.อ.ท. สมาน ทัศนา   \n1             18-010569                           น.ส. หมวย VFC   \n2             15-005803                       น.ส. ศุภวาร มรรคา   \n3             23-027976  Mr Zahran Saeed Zahran Hamed Alhaatemi   \n4             23-027975                     Mr Anas Omar S Adam   \n...                 ...                                     ...   \n572669        18-010569                           น.ส. หมวย VFC   \n572670        18-010569                           น.ส. หมวย VFC   \n572671        24-024478                Mrs Nwayer Kh M D Alazmi   \n572672        22-026047                      นาย สมาน อันนันนับ   \n572673        14-003070                 Mr HANS JUERGEN SCHMITZ   \n\n       nationality_code contact_id contact_percent currency  \\\n0                    TH       None            None      THB   \n1                    TH       None            None      THB   \n2                    TH       None            None      THB   \n3                    AR       None            None      THB   \n4                    SA       None            None      THB   \n...                 ...        ...             ...      ...   \n572669               TH       None            None      THB   \n572670               TH       None            None      THB   \n572671               KW       None            None      THB   \n572672               TH       None            None      THB   \n572673               GE       None            None      THB   \n\n        total_invoice_by_payment_method  total_invoice_amount  \\\n0                               35000.0               35000.0   \n1                                 379.0                 379.0   \n2                                 491.3                 491.3   \n3                               24000.0               24000.0   \n4                               15320.0               15320.0   \n...                                 ...                   ...   \n572669                         159000.0             -159000.0   \n572670                         113000.0             -113000.0   \n572671                           1600.0               -1600.0   \n572672                            786.0                -786.0   \n572673                            617.3                -617.3   \n\n        special_discount_by_invoice special_discount_account  \\\n0                                 0                     None   \n1                                 0                     None   \n2                                 0                     None   \n3                                 0                     None   \n4                                 0                     None   \n...                             ...                      ...   \n572669                            0                     None   \n572670                            0                     None   \n572671                            0                     None   \n572672                            0                     None   \n572673                            0                     None   \n\n       deposit_reference_no  episode_id  patient_id  bill_row_id  \\\n0                      None         NaN     1467394          NaN   \n1                      None         NaN     1240589          NaN   \n2                      None         NaN     1075907          NaN   \n3                      None         NaN     1467286          NaN   \n4                      None         NaN     1467280          NaN   \n...                     ...         ...         ...          ...   \n572669            D67015209         NaN     1240589          NaN   \n572670            D67015255         NaN     1240589          NaN   \n572671            D67015258   8858412.0     1506969   52199927.0   \n572672            D67015265   8865365.0     1425675   52200012.0   \n572673            D67015267   8865332.0     1023052   52200077.0   \n\n        receipt_row_id  payment_mode_sub_id  \\\n0            3849815.0                  2.0   \n1            3849818.0                  2.0   \n2            3849819.0                  2.0   \n3            3849831.0                  2.0   \n4            3849832.0                  2.0   \n...                ...                  ...   \n572669       4031872.0                  2.0   \n572670       4032305.0                  2.0   \n572671       4032321.0                  4.0   \n572672       4032384.0                  4.0   \n572673       4032407.0                  4.0   \n\n                                    file_name  \n0                          REVHVTN01.20231205  \n1                          REVHVTN01.20231205  \n2                          REVHVTN01.20231205  \n3                          REVHVTN01.20231205  \n4                          REVHVTN01.20231205  \n...                                       ...  \n572669  REVHVTN0120241029_20241101T143548.txt  \n572670  REVHVTN0120241029_20241101T143548.txt  \n572671  REVHVTN0120241029_20241101T143548.txt  \n572672  REVHVTN0120241029_20241101T143548.txt  \n572673  REVHVTN0120241029_20241101T143548.txt  \n\n[572674 rows x 25 columns]",
      "text/html": "<div>\n<style scoped>\n    .dataframe tbody tr th:only-of-type {\n        vertical-align: middle;\n    }\n\n    .dataframe tbody tr th {\n        vertical-align: top;\n    }\n\n    .dataframe thead th {\n        text-align: right;\n    }\n</style>\n<table border=\"1\" class=\"dataframe\">\n  <thead>\n    <tr style=\"text-align: right;\">\n      <th></th>\n      <th>business_unit</th>\n      <th>invoice_no_receipt_no</th>\n      <th>invoice_date__receipt_date</th>\n      <th>episode_no</th>\n      <th>document_type</th>\n      <th>payment_method</th>\n      <th>customer_code</th>\n      <th>customer_type</th>\n      <th>patient_code__hn</th>\n      <th>patient_name</th>\n      <th>nationality_code</th>\n      <th>contact_id</th>\n      <th>contact_percent</th>\n      <th>currency</th>\n      <th>total_invoice_by_payment_method</th>\n      <th>total_invoice_amount</th>\n      <th>special_discount_by_invoice</th>\n      <th>special_discount_account</th>\n      <th>deposit_reference_no</th>\n      <th>episode_id</th>\n      <th>patient_id</th>\n      <th>bill_row_id</th>\n      <th>receipt_row_id</th>\n      <th>payment_mode_sub_id</th>\n      <th>file_name</th>\n    </tr>\n  </thead>\n  <tbody>\n    <tr>\n      <th>0</th>\n      <td>VTN01</td>\n      <td>D66017362</td>\n      <td>05/12/2023</td>\n      <td>None</td>\n      <td>DEP</td>\n      <td>CRC</td>\n      <td>None</td>\n      <td>None</td>\n      <td>23-027963</td>\n      <td>พ.อ.ท. สมาน ทัศนา</td>\n      <td>TH</td>\n      <td>None</td>\n      <td>None</td>\n      <td>THB</td>\n      <td>35000.0</td>\n      <td>35000.0</td>\n      <td>0</td>\n      <td>None</td>\n      <td>None</td>\n      <td>NaN</td>\n      <td>1467394</td>\n      <td>NaN</td>\n      <td>3849815.0</td>\n      <td>2.0</td>\n      <td>REVHVTN01.20231205</td>\n    </tr>\n    <tr>\n      <th>1</th>\n      <td>VTN01</td>\n      <td>D66017363</td>\n      <td>05/12/2023</td>\n      <td>None</td>\n      <td>DEP</td>\n      <td>CSH</td>\n      <td>None</td>\n      <td>None</td>\n      <td>18-010569</td>\n      <td>น.ส. หมวย VFC</td>\n      <td>TH</td>\n      <td>None</td>\n      <td>None</td>\n      <td>THB</td>\n      <td>379.0</td>\n      <td>379.0</td>\n      <td>0</td>\n      <td>None</td>\n      <td>None</td>\n      <td>NaN</td>\n      <td>1240589</td>\n      <td>NaN</td>\n      <td>3849818.0</td>\n      <td>2.0</td>\n      <td>REVHVTN01.20231205</td>\n    </tr>\n    <tr>\n      <th>2</th>\n      <td>VTN01</td>\n      <td>D66017364</td>\n      <td>05/12/2023</td>\n      <td>None</td>\n      <td>DEP</td>\n      <td>CRC</td>\n      <td>None</td>\n      <td>None</td>\n      <td>15-005803</td>\n      <td>น.ส. ศุภวาร มรรคา</td>\n      <td>TH</td>\n      <td>None</td>\n      <td>None</td>\n      <td>THB</td>\n      <td>491.3</td>\n      <td>491.3</td>\n      <td>0</td>\n      <td>None</td>\n      <td>None</td>\n      <td>NaN</td>\n      <td>1075907</td>\n      <td>NaN</td>\n      <td>3849819.0</td>\n      <td>2.0</td>\n      <td>REVHVTN01.20231205</td>\n    </tr>\n    <tr>\n      <th>3</th>\n      <td>VTN01</td>\n      <td>D66017365</td>\n      <td>05/12/2023</td>\n      <td>None</td>\n      <td>DEP</td>\n      <td>CRC</td>\n      <td>None</td>\n      <td>None</td>\n      <td>23-027976</td>\n      <td>Mr Zahran Saeed Zahran Hamed Alhaatemi</td>\n      <td>AR</td>\n      <td>None</td>\n      <td>None</td>\n      <td>THB</td>\n      <td>24000.0</td>\n      <td>24000.0</td>\n      <td>0</td>\n      <td>None</td>\n      <td>None</td>\n      <td>NaN</td>\n      <td>1467286</td>\n      <td>NaN</td>\n      <td>3849831.0</td>\n      <td>2.0</td>\n      <td>REVHVTN01.20231205</td>\n    </tr>\n    <tr>\n      <th>4</th>\n      <td>VTN01</td>\n      <td>D66017366</td>\n      <td>05/12/2023</td>\n      <td>None</td>\n      <td>DEP</td>\n      <td>CRC</td>\n      <td>None</td>\n      <td>None</td>\n      <td>23-027975</td>\n      <td>Mr Anas Omar S Adam</td>\n      <td>SA</td>\n      <td>None</td>\n      <td>None</td>\n      <td>THB</td>\n      <td>15320.0</td>\n      <td>15320.0</td>\n      <td>0</td>\n      <td>None</td>\n      <td>None</td>\n      <td>NaN</td>\n      <td>1467280</td>\n      <td>NaN</td>\n      <td>3849832.0</td>\n      <td>2.0</td>\n      <td>REVHVTN01.20231205</td>\n    </tr>\n    <tr>\n      <th>...</th>\n      <td>...</td>\n      <td>...</td>\n      <td>...</td>\n      <td>...</td>\n      <td>...</td>\n      <td>...</td>\n      <td>...</td>\n      <td>...</td>\n      <td>...</td>\n      <td>...</td>\n      <td>...</td>\n      <td>...</td>\n      <td>...</td>\n      <td>...</td>\n      <td>...</td>\n      <td>...</td>\n      <td>...</td>\n      <td>...</td>\n      <td>...</td>\n      <td>...</td>\n      <td>...</td>\n      <td>...</td>\n      <td>...</td>\n      <td>...</td>\n      <td>...</td>\n    </tr>\n    <tr>\n      <th>572669</th>\n      <td>VTN01</td>\n      <td>O67156192</td>\n      <td>29/10/2024</td>\n      <td>None</td>\n      <td>RDEP</td>\n      <td>CSH</td>\n      <td>None</td>\n      <td>None</td>\n      <td>18-010569</td>\n      <td>น.ส. หมวย VFC</td>\n      <td>TH</td>\n      <td>None</td>\n      <td>None</td>\n      <td>THB</td>\n      <td>159000.0</td>\n      <td>-159000.0</td>\n      <td>0</td>\n      <td>None</td>\n      <td>D67015209</td>\n      <td>NaN</td>\n      <td>1240589</td>\n      <td>NaN</td>\n      <td>4031872.0</td>\n      <td>2.0</td>\n      <td>REVHVTN0120241029_20241101T143548.txt</td>\n    </tr>\n    <tr>\n      <th>572670</th>\n      <td>VTN01</td>\n      <td>O67156202</td>\n      <td>29/10/2024</td>\n      <td>None</td>\n      <td>RDEP</td>\n      <td>CSH</td>\n      <td>None</td>\n      <td>None</td>\n      <td>18-010569</td>\n      <td>น.ส. หมวย VFC</td>\n      <td>TH</td>\n      <td>None</td>\n      <td>None</td>\n      <td>THB</td>\n      <td>113000.0</td>\n      <td>-113000.0</td>\n      <td>0</td>\n      <td>None</td>\n      <td>D67015255</td>\n      <td>NaN</td>\n      <td>1240589</td>\n      <td>NaN</td>\n      <td>4032305.0</td>\n      <td>2.0</td>\n      <td>REVHVTN0120241029_20241101T143548.txt</td>\n    </tr>\n    <tr>\n      <th>572671</th>\n      <td>VTN01</td>\n      <td>O67156210</td>\n      <td>29/10/2024</td>\n      <td>O24-214282</td>\n      <td>RDEP</td>\n      <td>CSH</td>\n      <td>0104690001A</td>\n      <td>None</td>\n      <td>24-024478</td>\n      <td>Mrs Nwayer Kh M D Alazmi</td>\n      <td>KW</td>\n      <td>None</td>\n      <td>None</td>\n      <td>THB</td>\n      <td>1600.0</td>\n      <td>-1600.0</td>\n      <td>0</td>\n      <td>None</td>\n      <td>D67015258</td>\n      <td>8858412.0</td>\n      <td>1506969</td>\n      <td>52199927.0</td>\n      <td>4032321.0</td>\n      <td>4.0</td>\n      <td>REVHVTN0120241029_20241101T143548.txt</td>\n    </tr>\n    <tr>\n      <th>572672</th>\n      <td>VTN01</td>\n      <td>O67156260</td>\n      <td>29/10/2024</td>\n      <td>O24-214459</td>\n      <td>RDEP</td>\n      <td>CSH</td>\n      <td>0104690001A</td>\n      <td>None</td>\n      <td>22-026047</td>\n      <td>นาย สมาน อันนันนับ</td>\n      <td>TH</td>\n      <td>None</td>\n      <td>None</td>\n      <td>THB</td>\n      <td>786.0</td>\n      <td>-786.0</td>\n      <td>0</td>\n      <td>None</td>\n      <td>D67015265</td>\n      <td>8865365.0</td>\n      <td>1425675</td>\n      <td>52200012.0</td>\n      <td>4032384.0</td>\n      <td>4.0</td>\n      <td>REVHVTN0120241029_20241101T143548.txt</td>\n    </tr>\n    <tr>\n      <th>572673</th>\n      <td>VTN01</td>\n      <td>O67156284</td>\n      <td>29/10/2024</td>\n      <td>O24-214447</td>\n      <td>RDEP</td>\n      <td>CSH</td>\n      <td>0104690001A</td>\n      <td>None</td>\n      <td>14-003070</td>\n      <td>Mr HANS JUERGEN SCHMITZ</td>\n      <td>GE</td>\n      <td>None</td>\n      <td>None</td>\n      <td>THB</td>\n      <td>617.3</td>\n      <td>-617.3</td>\n      <td>0</td>\n      <td>None</td>\n      <td>D67015267</td>\n      <td>8865332.0</td>\n      <td>1023052</td>\n      <td>52200077.0</td>\n      <td>4032407.0</td>\n      <td>4.0</td>\n      <td>REVHVTN0120241029_20241101T143548.txt</td>\n    </tr>\n  </tbody>\n</table>\n<p>572674 rows × 25 columns</p>\n</div>"
     },
     "execution_count": 20,
     "metadata": {},
     "output_type": "execute_result"
    }
   ],
   "source": [
    "head20230801"
   ],
   "metadata": {
    "collapsed": false,
    "ExecuteTime": {
     "end_time": "2024-11-27T02:15:28.704262Z",
     "start_time": "2024-11-27T02:15:28.691259Z"
    }
   },
   "id": "e09dcfd576847a45",
   "execution_count": 20
  },
  {
   "cell_type": "code",
   "outputs": [
    {
     "data": {
      "text/plain": "business_unit                           1\ninvoice_no_receipt_no              544012\ninvoice_date__receipt_date            689\nepisode_no                         449208\ndocument_type                           4\npayment_method                         11\ncustomer_code                         858\ncustomer_type                          17\npatient_code__hn                    93440\npatient_name                        95004\nnationality_code                      147\ncontact_id                              1\ncontact_percent                         1\ncurrency                                1\ntotal_invoice_by_payment_method    112781\ntotal_invoice_amount                90592\nspecial_discount_by_invoice             1\nspecial_discount_account                1\ndeposit_reference_no                34706\nepisode_id                         449208\npatient_id                          93440\nbill_row_id                        509779\nreceipt_row_id                     365893\npayment_mode_sub_id                     7\nfile_name                             689\ndtype: int64"
     },
     "execution_count": 21,
     "metadata": {},
     "output_type": "execute_result"
    }
   ],
   "source": [
    "head20230801.apply(lambda x: len(x.unique()))"
   ],
   "metadata": {
    "collapsed": false,
    "ExecuteTime": {
     "end_time": "2024-11-27T02:15:30.101667Z",
     "start_time": "2024-11-27T02:15:28.738808Z"
    }
   },
   "id": "166394a6e59050cf",
   "execution_count": 21
  },
  {
   "cell_type": "code",
   "outputs": [
    {
     "data": {
      "text/plain": "invoice_no_receipt_no  payment_method  episode_id  payment_mode_sub_id\nD61000366              UDP             8501111.0   4.0                    1\nO67034406              CRC             8577041.0   2.0                    1\nO67034427              CRC             8577138.0   2.0                    1\nO67034426              CSH             8575559.0   2.0                    1\nO67034425              CSH             8576069.0   4.0                    1\n                                                                         ..\nO66087622              CSH             8277066.0   2.0                    1\nO66087621              CRC             8277133.0   2.0                    1\nO66087620              CRC             8185176.0   2.0                    1\nO66087619              DBC             8257740.0   2.0                    1\nO67167205              CSH             8891835.0   2.0                    1\nName: count, Length: 367298, dtype: int64"
     },
     "execution_count": 22,
     "metadata": {},
     "output_type": "execute_result"
    }
   ],
   "source": [
    "#'bill_row_id', 'receipt_row_id', 'episode_id', 'payment_mode_sub_id'\n",
    "head20230801[['invoice_no_receipt_no', 'payment_method', 'episode_id', 'payment_mode_sub_id']].value_counts() #'Document type'???"
   ],
   "metadata": {
    "collapsed": false,
    "ExecuteTime": {
     "end_time": "2024-11-27T02:15:30.919078Z",
     "start_time": "2024-11-27T02:15:30.103378Z"
    }
   },
   "id": "e029a1df924cc9c4",
   "execution_count": 22
  },
  {
   "cell_type": "code",
   "outputs": [
    {
     "data": {
      "text/plain": "       business_unit invoice_no_receipt_no invoice_date__receipt_date  \\\n176774         VTN01             D61000366                 10/01/2024   \n\n        episode_no document_type payment_method customer_code customer_type  \\\n176774  O24-006188           RCP            UDP   0104690001A          None   \n\n       patient_code__hn                     patient_name nationality_code  \\\n176774        12-016201  Mr ALI MASOUD ALI  AL MUFARRAJI               OM   \n\n       contact_id contact_percent currency  total_invoice_by_payment_method  \\\n176774       None            None      THB                          30452.0   \n\n        total_invoice_amount  special_discount_by_invoice  \\\n176774               30452.0                            0   \n\n       special_discount_account deposit_reference_no  episode_id  patient_id  \\\n176774                     None            D61000366   8501111.0      939040   \n\n        bill_row_id  receipt_row_id  payment_mode_sub_id  \\\n176774   51419530.0       2839022.0                  4.0   \n\n                                    file_name  \n176774  REVHVTN0120240110_20240112T175107.txt  ",
      "text/html": "<div>\n<style scoped>\n    .dataframe tbody tr th:only-of-type {\n        vertical-align: middle;\n    }\n\n    .dataframe tbody tr th {\n        vertical-align: top;\n    }\n\n    .dataframe thead th {\n        text-align: right;\n    }\n</style>\n<table border=\"1\" class=\"dataframe\">\n  <thead>\n    <tr style=\"text-align: right;\">\n      <th></th>\n      <th>business_unit</th>\n      <th>invoice_no_receipt_no</th>\n      <th>invoice_date__receipt_date</th>\n      <th>episode_no</th>\n      <th>document_type</th>\n      <th>payment_method</th>\n      <th>customer_code</th>\n      <th>customer_type</th>\n      <th>patient_code__hn</th>\n      <th>patient_name</th>\n      <th>nationality_code</th>\n      <th>contact_id</th>\n      <th>contact_percent</th>\n      <th>currency</th>\n      <th>total_invoice_by_payment_method</th>\n      <th>total_invoice_amount</th>\n      <th>special_discount_by_invoice</th>\n      <th>special_discount_account</th>\n      <th>deposit_reference_no</th>\n      <th>episode_id</th>\n      <th>patient_id</th>\n      <th>bill_row_id</th>\n      <th>receipt_row_id</th>\n      <th>payment_mode_sub_id</th>\n      <th>file_name</th>\n    </tr>\n  </thead>\n  <tbody>\n    <tr>\n      <th>176774</th>\n      <td>VTN01</td>\n      <td>D61000366</td>\n      <td>10/01/2024</td>\n      <td>O24-006188</td>\n      <td>RCP</td>\n      <td>UDP</td>\n      <td>0104690001A</td>\n      <td>None</td>\n      <td>12-016201</td>\n      <td>Mr ALI MASOUD ALI  AL MUFARRAJI</td>\n      <td>OM</td>\n      <td>None</td>\n      <td>None</td>\n      <td>THB</td>\n      <td>30452.0</td>\n      <td>30452.0</td>\n      <td>0</td>\n      <td>None</td>\n      <td>D61000366</td>\n      <td>8501111.0</td>\n      <td>939040</td>\n      <td>51419530.0</td>\n      <td>2839022.0</td>\n      <td>4.0</td>\n      <td>REVHVTN0120240110_20240112T175107.txt</td>\n    </tr>\n  </tbody>\n</table>\n</div>"
     },
     "execution_count": 23,
     "metadata": {},
     "output_type": "execute_result"
    }
   ],
   "source": [
    "head20230801[head20230801['invoice_no_receipt_no']=='D61000366']"
   ],
   "metadata": {
    "collapsed": false,
    "ExecuteTime": {
     "end_time": "2024-11-27T02:15:30.963166Z",
     "start_time": "2024-11-27T02:15:30.949300Z"
    }
   },
   "id": "89f55a8214045795",
   "execution_count": 23
  },
  {
   "cell_type": "code",
   "outputs": [
    {
     "name": "stdout",
     "output_type": "stream",
     "text": [
      "Unique combination: ('invoice_no_receipt_no', 'payment_method', 'episode_id', 'payment_mode_sub_id')\n",
      "End of search\n"
     ]
    }
   ],
   "source": [
    "find_unique_combinations(head20230801, [\n",
    "'invoice_no_receipt_no', 'payment_method', 'episode_id', 'payment_mode_sub_id'\n",
    "])"
   ],
   "metadata": {
    "collapsed": false,
    "ExecuteTime": {
     "end_time": "2024-11-27T02:15:51.347543Z",
     "start_time": "2024-11-27T02:15:30.959102Z"
    }
   },
   "id": "77ef3f0df228aab3",
   "execution_count": 24
  },
  {
   "cell_type": "code",
   "outputs": [],
   "source": [],
   "metadata": {
    "collapsed": false,
    "ExecuteTime": {
     "end_time": "2024-11-27T02:15:51.359022Z",
     "start_time": "2024-11-27T02:15:51.350171Z"
    }
   },
   "id": "c4a946211f59af5c",
   "execution_count": 24
  }
 ],
 "metadata": {
  "kernelspec": {
   "display_name": "Python 3",
   "language": "python",
   "name": "python3"
  },
  "language_info": {
   "codemirror_mode": {
    "name": "ipython",
    "version": 2
   },
   "file_extension": ".py",
   "mimetype": "text/x-python",
   "name": "python",
   "nbconvert_exporter": "python",
   "pygments_lexer": "ipython2",
   "version": "2.7.6"
  }
 },
 "nbformat": 4,
 "nbformat_minor": 5
}

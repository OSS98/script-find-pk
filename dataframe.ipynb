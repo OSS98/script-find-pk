{
 "cells": [
  {
   "cell_type": "code",
   "execution_count": 77,
   "metadata": {
    "ExecuteTime": {
     "end_time": "2024-09-23T04:20:19.577457Z",
     "start_time": "2024-09-23T04:20:19.519726Z"
    }
   },
   "outputs": [
    {
     "name": "stdout",
     "output_type": "stream",
     "text": [
      "hello world\n"
     ]
    }
   ],
   "source": [
    "print('hello world')"
   ]
  },
  {
   "cell_type": "code",
   "execution_count": 78,
   "metadata": {
    "ExecuteTime": {
     "end_time": "2024-09-23T04:20:20.431136Z",
     "start_time": "2024-09-23T04:20:19.533496Z"
    }
   },
   "outputs": [
    {
     "name": "stdout",
     "output_type": "stream",
     "text": [
      "Package                   Version\r\n",
      "------------------------- --------------\r\n",
      "anyio                     4.6.0\r\n",
      "appnope                   0.1.4\r\n",
      "argon2-cffi               23.1.0\r\n",
      "argon2-cffi-bindings      21.2.0\r\n",
      "arrow                     1.3.0\r\n",
      "asttokens                 2.4.1\r\n",
      "async-lru                 2.0.4\r\n",
      "attrs                     24.2.0\r\n",
      "awswrangler               3.9.1\r\n",
      "babel                     2.16.0\r\n",
      "beautifulsoup4            4.12.3\r\n",
      "bleach                    6.1.0\r\n",
      "boto3                     1.35.24\r\n",
      "botocore                  1.35.24\r\n",
      "certifi                   2024.8.30\r\n",
      "cffi                      1.17.1\r\n",
      "charset-normalizer        3.3.2\r\n",
      "comm                      0.2.2\r\n",
      "debugpy                   1.8.5\r\n",
      "decorator                 5.1.1\r\n",
      "defusedxml                0.7.1\r\n",
      "et-xmlfile                1.1.0\r\n",
      "executing                 2.1.0\r\n",
      "fastjsonschema            2.20.0\r\n",
      "fqdn                      1.5.1\r\n",
      "h11                       0.14.0\r\n",
      "httpcore                  1.0.5\r\n",
      "httpx                     0.27.2\r\n",
      "idna                      3.10\r\n",
      "ipykernel                 6.29.5\r\n",
      "ipython                   8.27.0\r\n",
      "ipywidgets                8.1.5\r\n",
      "isoduration               20.11.0\r\n",
      "jedi                      0.19.1\r\n",
      "Jinja2                    3.1.4\r\n",
      "jmespath                  1.0.1\r\n",
      "json5                     0.9.25\r\n",
      "jsonpointer               3.0.0\r\n",
      "jsonschema                4.23.0\r\n",
      "jsonschema-specifications 2023.12.1\r\n",
      "jupyter                   1.1.1\r\n",
      "jupyter_client            8.6.3\r\n",
      "jupyter-console           6.6.3\r\n",
      "jupyter_core              5.7.2\r\n",
      "jupyter-events            0.10.0\r\n",
      "jupyter-lsp               2.2.5\r\n",
      "jupyter_server            2.14.2\r\n",
      "jupyter_server_terminals  0.5.3\r\n",
      "jupyterlab                4.2.5\r\n",
      "jupyterlab_pygments       0.3.0\r\n",
      "jupyterlab_server         2.27.3\r\n",
      "jupyterlab_widgets        3.0.13\r\n",
      "lxml                      5.3.0\r\n",
      "MarkupSafe                2.1.5\r\n",
      "matplotlib-inline         0.1.7\r\n",
      "mistune                   3.0.2\r\n",
      "nbclient                  0.10.0\r\n",
      "nbconvert                 7.16.4\r\n",
      "nbformat                  5.10.4\r\n",
      "nest-asyncio              1.6.0\r\n",
      "notebook                  7.2.2\r\n",
      "notebook_shim             0.2.4\r\n",
      "numpy                     1.26.4\r\n",
      "openpyxl                  3.1.5\r\n",
      "overrides                 7.7.0\r\n",
      "packaging                 24.1\r\n",
      "pandas                    2.2.3\r\n",
      "pandocfilters             1.5.1\r\n",
      "parso                     0.8.4\r\n",
      "pexpect                   4.9.0\r\n",
      "pip                       23.2.1\r\n",
      "platformdirs              4.3.6\r\n",
      "prometheus_client         0.21.0\r\n",
      "prompt_toolkit            3.0.47\r\n",
      "psutil                    6.0.0\r\n",
      "ptyprocess                0.7.0\r\n",
      "pure_eval                 0.2.3\r\n",
      "pyarrow                   17.0.0\r\n",
      "pycparser                 2.22\r\n",
      "Pygments                  2.18.0\r\n",
      "python-dateutil           2.9.0.post0\r\n",
      "python-json-logger        2.0.7\r\n",
      "pytz                      2024.2\r\n",
      "PyYAML                    6.0.2\r\n",
      "pyzmq                     26.2.0\r\n",
      "referencing               0.35.1\r\n",
      "requests                  2.32.3\r\n",
      "rfc3339-validator         0.1.4\r\n",
      "rfc3986-validator         0.1.1\r\n",
      "rpds-py                   0.20.0\r\n",
      "s3transfer                0.10.2\r\n",
      "Send2Trash                1.8.3\r\n",
      "setuptools                75.1.0\r\n",
      "six                       1.16.0\r\n",
      "sniffio                   1.3.1\r\n",
      "soupsieve                 2.6\r\n",
      "stack-data                0.6.3\r\n",
      "terminado                 0.18.1\r\n",
      "tinycss2                  1.3.0\r\n",
      "tornado                   6.4.1\r\n",
      "traitlets                 5.14.3\r\n",
      "types-python-dateutil     2.9.0.20240906\r\n",
      "typing_extensions         4.12.2\r\n",
      "tzdata                    2024.1\r\n",
      "uri-template              1.3.0\r\n",
      "urllib3                   2.2.3\r\n",
      "wcwidth                   0.2.13\r\n",
      "webcolors                 24.8.0\r\n",
      "webencodings              0.5.1\r\n",
      "websocket-client          1.8.0\r\n",
      "widgetsnbextension        4.0.13\r\n",
      "\r\n",
      "\u001B[1m[\u001B[0m\u001B[34;49mnotice\u001B[0m\u001B[1;39;49m]\u001B[0m\u001B[39;49m A new release of pip is available: \u001B[0m\u001B[31;49m23.2.1\u001B[0m\u001B[39;49m -> \u001B[0m\u001B[32;49m24.2\u001B[0m\r\n",
      "\u001B[1m[\u001B[0m\u001B[34;49mnotice\u001B[0m\u001B[1;39;49m]\u001B[0m\u001B[39;49m To update, run: \u001B[0m\u001B[32;49mpip install --upgrade pip\u001B[0m\r\n",
      "Note: you may need to restart the kernel to use updated packages.\n"
     ]
    }
   ],
   "source": [
    "pip list"
   ]
  },
  {
   "cell_type": "code",
   "execution_count": 79,
   "metadata": {
    "ExecuteTime": {
     "end_time": "2024-09-23T04:20:21.098036Z",
     "start_time": "2024-09-23T04:20:20.430554Z"
    }
   },
   "outputs": [
    {
     "name": "stdout",
     "output_type": "stream",
     "text": [
      "Package                   Version\r\n",
      "------------------------- --------------\r\n",
      "anyio                     4.6.0\r\n",
      "appnope                   0.1.4\r\n",
      "argon2-cffi               23.1.0\r\n",
      "argon2-cffi-bindings      21.2.0\r\n",
      "arrow                     1.3.0\r\n",
      "asttokens                 2.4.1\r\n",
      "async-lru                 2.0.4\r\n",
      "attrs                     24.2.0\r\n",
      "awswrangler               3.9.1\r\n",
      "babel                     2.16.0\r\n",
      "beautifulsoup4            4.12.3\r\n",
      "bleach                    6.1.0\r\n",
      "boto3                     1.35.24\r\n",
      "botocore                  1.35.24\r\n",
      "certifi                   2024.8.30\r\n",
      "cffi                      1.17.1\r\n",
      "charset-normalizer        3.3.2\r\n",
      "comm                      0.2.2\r\n",
      "debugpy                   1.8.5\r\n",
      "decorator                 5.1.1\r\n",
      "defusedxml                0.7.1\r\n",
      "et-xmlfile                1.1.0\r\n",
      "executing                 2.1.0\r\n",
      "fastjsonschema            2.20.0\r\n",
      "fqdn                      1.5.1\r\n",
      "h11                       0.14.0\r\n",
      "httpcore                  1.0.5\r\n",
      "httpx                     0.27.2\r\n",
      "idna                      3.10\r\n",
      "ipykernel                 6.29.5\r\n",
      "ipython                   8.27.0\r\n",
      "ipywidgets                8.1.5\r\n",
      "isoduration               20.11.0\r\n",
      "jedi                      0.19.1\r\n",
      "Jinja2                    3.1.4\r\n",
      "jmespath                  1.0.1\r\n",
      "json5                     0.9.25\r\n",
      "jsonpointer               3.0.0\r\n",
      "jsonschema                4.23.0\r\n",
      "jsonschema-specifications 2023.12.1\r\n",
      "jupyter                   1.1.1\r\n",
      "jupyter_client            8.6.3\r\n",
      "jupyter-console           6.6.3\r\n",
      "jupyter_core              5.7.2\r\n",
      "jupyter-events            0.10.0\r\n",
      "jupyter-lsp               2.2.5\r\n",
      "jupyter_server            2.14.2\r\n",
      "jupyter_server_terminals  0.5.3\r\n",
      "jupyterlab                4.2.5\r\n",
      "jupyterlab_pygments       0.3.0\r\n",
      "jupyterlab_server         2.27.3\r\n",
      "jupyterlab_widgets        3.0.13\r\n",
      "lxml                      5.3.0\r\n",
      "MarkupSafe                2.1.5\r\n",
      "matplotlib-inline         0.1.7\r\n",
      "mistune                   3.0.2\r\n",
      "nbclient                  0.10.0\r\n",
      "nbconvert                 7.16.4\r\n",
      "nbformat                  5.10.4\r\n",
      "nest-asyncio              1.6.0\r\n",
      "notebook                  7.2.2\r\n",
      "notebook_shim             0.2.4\r\n",
      "numpy                     1.26.4\r\n",
      "openpyxl                  3.1.5\r\n",
      "overrides                 7.7.0\r\n",
      "packaging                 24.1\r\n",
      "pandas                    2.2.3\r\n",
      "pandocfilters             1.5.1\r\n",
      "parso                     0.8.4\r\n",
      "pexpect                   4.9.0\r\n",
      "pip                       23.2.1\r\n",
      "platformdirs              4.3.6\r\n",
      "prometheus_client         0.21.0\r\n",
      "prompt_toolkit            3.0.47\r\n",
      "psutil                    6.0.0\r\n",
      "ptyprocess                0.7.0\r\n",
      "pure_eval                 0.2.3\r\n",
      "pyarrow                   17.0.0\r\n",
      "pycparser                 2.22\r\n",
      "Pygments                  2.18.0\r\n",
      "python-dateutil           2.9.0.post0\r\n",
      "python-json-logger        2.0.7\r\n",
      "pytz                      2024.2\r\n",
      "PyYAML                    6.0.2\r\n",
      "pyzmq                     26.2.0\r\n",
      "referencing               0.35.1\r\n",
      "requests                  2.32.3\r\n",
      "rfc3339-validator         0.1.4\r\n",
      "rfc3986-validator         0.1.1\r\n",
      "rpds-py                   0.20.0\r\n",
      "s3transfer                0.10.2\r\n",
      "Send2Trash                1.8.3\r\n",
      "setuptools                75.1.0\r\n",
      "six                       1.16.0\r\n",
      "sniffio                   1.3.1\r\n",
      "soupsieve                 2.6\r\n",
      "stack-data                0.6.3\r\n",
      "terminado                 0.18.1\r\n",
      "tinycss2                  1.3.0\r\n",
      "tornado                   6.4.1\r\n",
      "traitlets                 5.14.3\r\n",
      "types-python-dateutil     2.9.0.20240906\r\n",
      "typing_extensions         4.12.2\r\n",
      "tzdata                    2024.1\r\n",
      "uri-template              1.3.0\r\n",
      "urllib3                   2.2.3\r\n",
      "wcwidth                   0.2.13\r\n",
      "webcolors                 24.8.0\r\n",
      "webencodings              0.5.1\r\n",
      "websocket-client          1.8.0\r\n",
      "widgetsnbextension        4.0.13\r\n",
      "\r\n",
      "\u001B[1m[\u001B[0m\u001B[34;49mnotice\u001B[0m\u001B[1;39;49m]\u001B[0m\u001B[39;49m A new release of pip is available: \u001B[0m\u001B[31;49m23.2.1\u001B[0m\u001B[39;49m -> \u001B[0m\u001B[32;49m24.2\u001B[0m\r\n",
      "\u001B[1m[\u001B[0m\u001B[34;49mnotice\u001B[0m\u001B[1;39;49m]\u001B[0m\u001B[39;49m To update, run: \u001B[0m\u001B[32;49mpip install --upgrade pip\u001B[0m\r\n",
      "Note: you may need to restart the kernel to use updated packages.\n"
     ]
    }
   ],
   "source": [
    "pip list"
   ]
  },
  {
   "cell_type": "code",
   "execution_count": 80,
   "metadata": {
    "ExecuteTime": {
     "end_time": "2024-09-23T04:20:22.311439Z",
     "start_time": "2024-09-23T04:20:21.096315Z"
    }
   },
   "outputs": [
    {
     "name": "stdout",
     "output_type": "stream",
     "text": [
      "Requirement already satisfied: lxml in ./.venv/lib/python3.12/site-packages (5.3.0)\r\n",
      "Requirement already satisfied: pandas in ./.venv/lib/python3.12/site-packages (2.2.3)\r\n",
      "Requirement already satisfied: openpyxl in ./.venv/lib/python3.12/site-packages (3.1.5)\r\n",
      "Requirement already satisfied: numpy>=1.26.0 in ./.venv/lib/python3.12/site-packages (from pandas) (1.26.4)\r\n",
      "Requirement already satisfied: python-dateutil>=2.8.2 in ./.venv/lib/python3.12/site-packages (from pandas) (2.9.0.post0)\r\n",
      "Requirement already satisfied: pytz>=2020.1 in ./.venv/lib/python3.12/site-packages (from pandas) (2024.2)\r\n",
      "Requirement already satisfied: tzdata>=2022.7 in ./.venv/lib/python3.12/site-packages (from pandas) (2024.1)\r\n",
      "Requirement already satisfied: et-xmlfile in ./.venv/lib/python3.12/site-packages (from openpyxl) (1.1.0)\r\n",
      "Requirement already satisfied: six>=1.5 in ./.venv/lib/python3.12/site-packages (from python-dateutil>=2.8.2->pandas) (1.16.0)\r\n",
      "\r\n",
      "\u001B[1m[\u001B[0m\u001B[34;49mnotice\u001B[0m\u001B[1;39;49m]\u001B[0m\u001B[39;49m A new release of pip is available: \u001B[0m\u001B[31;49m23.2.1\u001B[0m\u001B[39;49m -> \u001B[0m\u001B[32;49m24.2\u001B[0m\r\n",
      "\u001B[1m[\u001B[0m\u001B[34;49mnotice\u001B[0m\u001B[1;39;49m]\u001B[0m\u001B[39;49m To update, run: \u001B[0m\u001B[32;49mpip install --upgrade pip\u001B[0m\r\n",
      "Note: you may need to restart the kernel to use updated packages.\n"
     ]
    }
   ],
   "source": [
    "pip install lxml pandas openpyxl"
   ]
  },
  {
   "cell_type": "code",
   "execution_count": 81,
   "metadata": {
    "ExecuteTime": {
     "end_time": "2024-09-23T04:20:22.316805Z",
     "start_time": "2024-09-23T04:20:22.314122Z"
    }
   },
   "outputs": [],
   "source": [
    "import pandas as pd"
   ]
  },
  {
   "cell_type": "code",
   "execution_count": 82,
   "metadata": {
    "ExecuteTime": {
     "end_time": "2024-09-23T04:20:25.490795Z",
     "start_time": "2024-09-23T04:20:22.315930Z"
    }
   },
   "outputs": [
    {
     "data": {
      "text/plain": "BU                                 26462\nen                                 26462\nOrderDate                          26462\nBilling Sub Group                  26462\nItem code                          26462\nDescription                        26462\nPackage Code                        7016\nhn                                 26462\nName                               26462\nAccount Code                       26462\nDiscoun Account                    26462\nDepartment                         26462\nFirst Loc                          26462\nPatient Loc                        26462\nRec Loc                            26462\nSub Type                           26462\nnation                             26462\ncurr                               26462\nAmount Before                      26462\nDiscount                           26462\nBill Amount                        26462\n Doctor Group                       8557\nDoctor Type                        15951\nDoctor Code                        15951\nDoctor Name                        15951\nQty                                26462\nOrderItemID and Accession No       26462\nOrderItemSubID and Accession No    26462\nEpisode Id                         26462\nPatient Id                         26462\ndtype: int64"
     },
     "execution_count": 82,
     "metadata": {},
     "output_type": "execute_result"
    }
   ],
   "source": [
    "df_budget = pd.read_excel('source/Onward2.xlsx', sheet_name='ONWVTN01')\n",
    "df_budget.count()"
   ]
  },
  {
   "cell_type": "code",
   "execution_count": 83,
   "metadata": {
    "ExecuteTime": {
     "end_time": "2024-09-23T04:20:25.512325Z",
     "start_time": "2024-09-23T04:20:25.491628Z"
    }
   },
   "outputs": [
    {
     "data": {
      "text/plain": "BU                                     1\nen                                    76\nOrderDate                            202\nBilling Sub Group                     62\nItem code                           1650\nDescription                         1602\nPackage Code                         156\nhn                                    76\nName                                  76\nAccount Code                          46\nDiscoun Account                       46\nDepartment                            17\nFirst Loc                             17\nPatient Loc                           60\nRec Loc                               54\nSub Type                               1\nnation                                12\ncurr                                   1\nAmount Before                       1368\nDiscount                             974\nBill Amount                          105\n Doctor Group                        134\nDoctor Type                           20\nDoctor Code                          333\nDoctor Name                          333\nQty                                  206\nOrderItemID and Accession No         133\nOrderItemSubID and Accession No    11226\nEpisode Id                            76\nPatient Id                            76\ndtype: int64"
     },
     "execution_count": 83,
     "metadata": {},
     "output_type": "execute_result"
    }
   ],
   "source": [
    "unique_counts = df_budget.nunique()\n",
    "unique_counts"
   ]
  },
  {
   "cell_type": "code",
   "execution_count": 84,
   "metadata": {
    "ExecuteTime": {
     "end_time": "2024-09-23T04:20:25.521672Z",
     "start_time": "2024-09-23T04:20:25.510511Z"
    }
   },
   "outputs": [
    {
     "data": {
      "text/plain": "Series([], dtype: int64)"
     },
     "execution_count": 84,
     "metadata": {},
     "output_type": "execute_result"
    }
   ],
   "source": [
    "potential_pk = unique_counts[unique_counts == len(df_budget)]\n",
    "potential_pk"
   ]
  },
  {
   "cell_type": "code",
   "execution_count": 85,
   "metadata": {
    "ExecuteTime": {
     "end_time": "2024-09-23T04:20:25.531807Z",
     "start_time": "2024-09-23T04:20:25.515647Z"
    }
   },
   "outputs": [
    {
     "data": {
      "text/plain": "          BU          en   OrderDate  Billing Sub Group         Item code  \\\n0      VTN01  I24-004582  12/09/2024           11020001  S4218THERM320_M    \n1      VTN01  I24-004582  12/09/2024           11120000        NSGSER0178   \n2      VTN01  I24-004582  12/09/2024           11120000        NSGSER0001   \n3      VTN01  I24-004582  12/09/2024           11120000        NSGSER0178   \n4      VTN01  I24-004582  12/09/2024           11120000        NSGSER0178   \n...      ...         ...         ...                ...               ...   \n26457  VTN01  I24-007343  12/09/2024           11120000      NUIPDNURS092   \n26458  VTN01  I24-007343  12/09/2024           11140010            IPDS28   \n26459  VTN01  I24-007343  12/09/2024           12100001            DF0002   \n26460  VTN01  I24-007343  12/09/2024           21000000      NUIPDROOM103   \n26461  VTN01  I24-007343  12/09/2024           23000001          DIETSD18   \n\n                          Description  Package Code         hn  \\\n0        PROBE COVER (PANEL) 320 PC_M           NaN  24-012190   \n1                         Liquid Diet           NaN  24-012190   \n2                 Vital Signs Routine  NSGIPDPRO002  24-012190   \n3                         Liquid Diet           NaN  24-012190   \n4                         Liquid Diet           NaN  24-012190   \n...                               ...           ...        ...   \n26457  ค่าการพยาบาล grand single room          7AB2  10-017731   \n26458  ค่าบริการทางการแพทย์ผู้ป่วยใน           7AB2  10-017731   \n26459                     ค่าตรวจ OPD           NaN  10-017731   \n26460    ราคาเตียง  GRAND SINGLE ROOM          7AB2  10-017731   \n26461            อาหารอ่อน A มื้อเย็น           NaN  10-017731   \n\n                          Name  Account Code  ...  Bill Amount   Doctor Group  \\\n0       Mr Mohamud Yousuf Muse        410001  ...      20534.0            NaN   \n1       Mr Mohamud Yousuf Muse        455001  ...      20534.0        91749.0   \n2       Mr Mohamud Yousuf Muse        455001  ...      20534.0        93632.0   \n3       Mr Mohamud Yousuf Muse        455001  ...      20534.0        91749.0   \n4       Mr Mohamud Yousuf Muse        455001  ...      20534.0        91749.0   \n...                        ...           ...  ...          ...            ...   \n26457  น.ส. นภัสวรรณ ปัทมวิทูร        455001  ...      26644.3            NaN   \n26458  น.ส. นภัสวรรณ ปัทมวิทูร        460004  ...      26644.3            NaN   \n26459  น.ส. นภัสวรรณ ปัทมวิทูร        420001  ...      26644.3        93689.0   \n26460  น.ส. นภัสวรรณ ปัทมวิทูร        441002  ...      26644.3            NaN   \n26461  น.ส. นภัสวรรณ ปัทมวิทูร        460003  ...      26644.3        91765.0   \n\n      Doctor Type Doctor Code                   Doctor Name Qty  \\\n0             NaN         NaN                           NaN   6   \n1          DRMS01       91749  อำไพวรรณ  รุ่งบรรณพันธุ์ พญ.   1   \n2           DSA01       93632        นิศารัตน์  อาชวาคม พญ.   1   \n3          DRMS01       91749  อำไพวรรณ  รุ่งบรรณพันธุ์ พญ.   1   \n4          DRMS01       91749  อำไพวรรณ  รุ่งบรรณพันธุ์ พญ.   1   \n...           ...         ...                           ...  ..   \n26457         NaN         NaN                           NaN   1   \n26458         NaN         NaN                           NaN   1   \n26459      DRMS01       93689       จักรภพ  ชัยขจรวัฒน์ นพ.   1   \n26460         NaN         NaN                           NaN   1   \n26461      DRMS01       91765        รัชวิชญ์  เจริญกุล นพ.   1   \n\n      OrderItemID and Accession No OrderItemSubID and Accession No  \\\n0                         15219334                            4061   \n1                         15219334                            4046   \n2                         15219334                            4047   \n3                         15219334                            4048   \n4                         15219334                            4049   \n...                            ...                             ...   \n26457                     16053368                              41   \n26458                     16053368                              42   \n26459                     16053368                               1   \n26460                     16053368                              40   \n26461                     16053368                              20   \n\n       Episode Id  Patient Id  \n0         8693987     1488454  \n1         8693987     1488454  \n2         8693987     1488454  \n3         8693987     1488454  \n4         8693987     1488454  \n...           ...         ...  \n26457     8808071      833391  \n26458     8808071      833391  \n26459     8808071      833391  \n26460     8808071      833391  \n26461     8808071      833391  \n\n[26462 rows x 30 columns]",
      "text/html": "<div>\n<style scoped>\n    .dataframe tbody tr th:only-of-type {\n        vertical-align: middle;\n    }\n\n    .dataframe tbody tr th {\n        vertical-align: top;\n    }\n\n    .dataframe thead th {\n        text-align: right;\n    }\n</style>\n<table border=\"1\" class=\"dataframe\">\n  <thead>\n    <tr style=\"text-align: right;\">\n      <th></th>\n      <th>BU</th>\n      <th>en</th>\n      <th>OrderDate</th>\n      <th>Billing Sub Group</th>\n      <th>Item code</th>\n      <th>Description</th>\n      <th>Package Code</th>\n      <th>hn</th>\n      <th>Name</th>\n      <th>Account Code</th>\n      <th>...</th>\n      <th>Bill Amount</th>\n      <th>Doctor Group</th>\n      <th>Doctor Type</th>\n      <th>Doctor Code</th>\n      <th>Doctor Name</th>\n      <th>Qty</th>\n      <th>OrderItemID and Accession No</th>\n      <th>OrderItemSubID and Accession No</th>\n      <th>Episode Id</th>\n      <th>Patient Id</th>\n    </tr>\n  </thead>\n  <tbody>\n    <tr>\n      <th>0</th>\n      <td>VTN01</td>\n      <td>I24-004582</td>\n      <td>12/09/2024</td>\n      <td>11020001</td>\n      <td>S4218THERM320_M</td>\n      <td>PROBE COVER (PANEL) 320 PC_M</td>\n      <td>NaN</td>\n      <td>24-012190</td>\n      <td>Mr Mohamud Yousuf Muse</td>\n      <td>410001</td>\n      <td>...</td>\n      <td>20534.0</td>\n      <td>NaN</td>\n      <td>NaN</td>\n      <td>NaN</td>\n      <td>NaN</td>\n      <td>6</td>\n      <td>15219334</td>\n      <td>4061</td>\n      <td>8693987</td>\n      <td>1488454</td>\n    </tr>\n    <tr>\n      <th>1</th>\n      <td>VTN01</td>\n      <td>I24-004582</td>\n      <td>12/09/2024</td>\n      <td>11120000</td>\n      <td>NSGSER0178</td>\n      <td>Liquid Diet</td>\n      <td>NaN</td>\n      <td>24-012190</td>\n      <td>Mr Mohamud Yousuf Muse</td>\n      <td>455001</td>\n      <td>...</td>\n      <td>20534.0</td>\n      <td>91749.0</td>\n      <td>DRMS01</td>\n      <td>91749</td>\n      <td>อำไพวรรณ  รุ่งบรรณพันธุ์ พญ.</td>\n      <td>1</td>\n      <td>15219334</td>\n      <td>4046</td>\n      <td>8693987</td>\n      <td>1488454</td>\n    </tr>\n    <tr>\n      <th>2</th>\n      <td>VTN01</td>\n      <td>I24-004582</td>\n      <td>12/09/2024</td>\n      <td>11120000</td>\n      <td>NSGSER0001</td>\n      <td>Vital Signs Routine</td>\n      <td>NSGIPDPRO002</td>\n      <td>24-012190</td>\n      <td>Mr Mohamud Yousuf Muse</td>\n      <td>455001</td>\n      <td>...</td>\n      <td>20534.0</td>\n      <td>93632.0</td>\n      <td>DSA01</td>\n      <td>93632</td>\n      <td>นิศารัตน์  อาชวาคม พญ.</td>\n      <td>1</td>\n      <td>15219334</td>\n      <td>4047</td>\n      <td>8693987</td>\n      <td>1488454</td>\n    </tr>\n    <tr>\n      <th>3</th>\n      <td>VTN01</td>\n      <td>I24-004582</td>\n      <td>12/09/2024</td>\n      <td>11120000</td>\n      <td>NSGSER0178</td>\n      <td>Liquid Diet</td>\n      <td>NaN</td>\n      <td>24-012190</td>\n      <td>Mr Mohamud Yousuf Muse</td>\n      <td>455001</td>\n      <td>...</td>\n      <td>20534.0</td>\n      <td>91749.0</td>\n      <td>DRMS01</td>\n      <td>91749</td>\n      <td>อำไพวรรณ  รุ่งบรรณพันธุ์ พญ.</td>\n      <td>1</td>\n      <td>15219334</td>\n      <td>4048</td>\n      <td>8693987</td>\n      <td>1488454</td>\n    </tr>\n    <tr>\n      <th>4</th>\n      <td>VTN01</td>\n      <td>I24-004582</td>\n      <td>12/09/2024</td>\n      <td>11120000</td>\n      <td>NSGSER0178</td>\n      <td>Liquid Diet</td>\n      <td>NaN</td>\n      <td>24-012190</td>\n      <td>Mr Mohamud Yousuf Muse</td>\n      <td>455001</td>\n      <td>...</td>\n      <td>20534.0</td>\n      <td>91749.0</td>\n      <td>DRMS01</td>\n      <td>91749</td>\n      <td>อำไพวรรณ  รุ่งบรรณพันธุ์ พญ.</td>\n      <td>1</td>\n      <td>15219334</td>\n      <td>4049</td>\n      <td>8693987</td>\n      <td>1488454</td>\n    </tr>\n    <tr>\n      <th>...</th>\n      <td>...</td>\n      <td>...</td>\n      <td>...</td>\n      <td>...</td>\n      <td>...</td>\n      <td>...</td>\n      <td>...</td>\n      <td>...</td>\n      <td>...</td>\n      <td>...</td>\n      <td>...</td>\n      <td>...</td>\n      <td>...</td>\n      <td>...</td>\n      <td>...</td>\n      <td>...</td>\n      <td>...</td>\n      <td>...</td>\n      <td>...</td>\n      <td>...</td>\n      <td>...</td>\n    </tr>\n    <tr>\n      <th>26457</th>\n      <td>VTN01</td>\n      <td>I24-007343</td>\n      <td>12/09/2024</td>\n      <td>11120000</td>\n      <td>NUIPDNURS092</td>\n      <td>ค่าการพยาบาล grand single room</td>\n      <td>7AB2</td>\n      <td>10-017731</td>\n      <td>น.ส. นภัสวรรณ ปัทมวิทูร</td>\n      <td>455001</td>\n      <td>...</td>\n      <td>26644.3</td>\n      <td>NaN</td>\n      <td>NaN</td>\n      <td>NaN</td>\n      <td>NaN</td>\n      <td>1</td>\n      <td>16053368</td>\n      <td>41</td>\n      <td>8808071</td>\n      <td>833391</td>\n    </tr>\n    <tr>\n      <th>26458</th>\n      <td>VTN01</td>\n      <td>I24-007343</td>\n      <td>12/09/2024</td>\n      <td>11140010</td>\n      <td>IPDS28</td>\n      <td>ค่าบริการทางการแพทย์ผู้ป่วยใน</td>\n      <td>7AB2</td>\n      <td>10-017731</td>\n      <td>น.ส. นภัสวรรณ ปัทมวิทูร</td>\n      <td>460004</td>\n      <td>...</td>\n      <td>26644.3</td>\n      <td>NaN</td>\n      <td>NaN</td>\n      <td>NaN</td>\n      <td>NaN</td>\n      <td>1</td>\n      <td>16053368</td>\n      <td>42</td>\n      <td>8808071</td>\n      <td>833391</td>\n    </tr>\n    <tr>\n      <th>26459</th>\n      <td>VTN01</td>\n      <td>I24-007343</td>\n      <td>12/09/2024</td>\n      <td>12100001</td>\n      <td>DF0002</td>\n      <td>ค่าตรวจ OPD</td>\n      <td>NaN</td>\n      <td>10-017731</td>\n      <td>น.ส. นภัสวรรณ ปัทมวิทูร</td>\n      <td>420001</td>\n      <td>...</td>\n      <td>26644.3</td>\n      <td>93689.0</td>\n      <td>DRMS01</td>\n      <td>93689</td>\n      <td>จักรภพ  ชัยขจรวัฒน์ นพ.</td>\n      <td>1</td>\n      <td>16053368</td>\n      <td>1</td>\n      <td>8808071</td>\n      <td>833391</td>\n    </tr>\n    <tr>\n      <th>26460</th>\n      <td>VTN01</td>\n      <td>I24-007343</td>\n      <td>12/09/2024</td>\n      <td>21000000</td>\n      <td>NUIPDROOM103</td>\n      <td>ราคาเตียง  GRAND SINGLE ROOM</td>\n      <td>7AB2</td>\n      <td>10-017731</td>\n      <td>น.ส. นภัสวรรณ ปัทมวิทูร</td>\n      <td>441002</td>\n      <td>...</td>\n      <td>26644.3</td>\n      <td>NaN</td>\n      <td>NaN</td>\n      <td>NaN</td>\n      <td>NaN</td>\n      <td>1</td>\n      <td>16053368</td>\n      <td>40</td>\n      <td>8808071</td>\n      <td>833391</td>\n    </tr>\n    <tr>\n      <th>26461</th>\n      <td>VTN01</td>\n      <td>I24-007343</td>\n      <td>12/09/2024</td>\n      <td>23000001</td>\n      <td>DIETSD18</td>\n      <td>อาหารอ่อน A มื้อเย็น</td>\n      <td>NaN</td>\n      <td>10-017731</td>\n      <td>น.ส. นภัสวรรณ ปัทมวิทูร</td>\n      <td>460003</td>\n      <td>...</td>\n      <td>26644.3</td>\n      <td>91765.0</td>\n      <td>DRMS01</td>\n      <td>91765</td>\n      <td>รัชวิชญ์  เจริญกุล นพ.</td>\n      <td>1</td>\n      <td>16053368</td>\n      <td>20</td>\n      <td>8808071</td>\n      <td>833391</td>\n    </tr>\n  </tbody>\n</table>\n<p>26462 rows × 30 columns</p>\n</div>"
     },
     "execution_count": 85,
     "metadata": {},
     "output_type": "execute_result"
    }
   ],
   "source": [
    "# print(df_budget.info())\n",
    "\n",
    "# df_budget[['ENTRYNUMBER', 'DIMENSIONDISPLAYVALUE']].nunique()\n",
    "\n",
    "df_budget"
   ]
  },
  {
   "cell_type": "code",
   "execution_count": 134,
   "metadata": {
    "ExecuteTime": {
     "end_time": "2024-09-23T06:32:36.941805Z",
     "start_time": "2024-09-23T06:32:36.938443Z"
    }
   },
   "outputs": [],
   "source": [
    "# from itertools import combinations\n",
    "# # # Function to check if a combination of columns is unique\n",
    "# def find_unique_combinations(df, cols):\n",
    "#     for r in range(1, len(cols) + 1):\n",
    "#         for combo in combinations(cols, r):\n",
    "#             # print(f\"Checking combination: {combo}\")\n",
    "#             \n",
    "#             # Create a combined key based on selected columns\n",
    "#             combined_key = df[list(combo)].apply(tuple, axis=1)\n",
    "#             # print(combined_key)\n",
    "#             # print(combined_key.nunique())\n",
    "#             \n",
    "#             # Check if the combination of columns is unique\n",
    "#             if combined_key.nunique() == len(df):\n",
    "#                 print(f\"-----------------------Unique combination: {combo}\")\n",
    "#             else:\n",
    "#                 print(f\"Not unique combination: {combo}\")\n",
    "#             # else:\n",
    "#                 # print(f\"Not unique combination: {combo}\")\n",
    "import pandas as pd\n",
    "from itertools import combinations\n",
    "\n",
    "def find_unique_combinations(df, cols):\n",
    "    for r in range(1, len(cols) + 1):\n",
    "        for combo in combinations(cols, r):\n",
    "            # print(f\"Checking combination: {combo}\")\n",
    "            \n",
    "            # Create a combined key based on selected columns\n",
    "            combined_key = df[list(combo)].apply(tuple, axis=1)\n",
    "            # print(combined_key)\n",
    "            # print(combined_key.nunique())\n",
    "            \n",
    "            # Check if the combination of columns is unique\n",
    "            if combined_key.nunique() == len(df):\n",
    "                print(f\"Unique combination: {combo}\")\n",
    "    print(\"End of search\")\n"
   ]
  },
  {
   "cell_type": "code",
   "execution_count": 135,
   "metadata": {
    "ExecuteTime": {
     "end_time": "2024-09-23T06:32:38.078249Z",
     "start_time": "2024-09-23T06:32:37.904146Z"
    }
   },
   "outputs": [
    {
     "name": "stdout",
     "output_type": "stream",
     "text": [
      "<class 'pandas.core.frame.DataFrame'>\n",
      "RangeIndex: 26462 entries, 0 to 26461\n",
      "Data columns (total 30 columns):\n",
      " #   Column                           Non-Null Count  Dtype  \n",
      "---  ------                           --------------  -----  \n",
      " 0   BU                               26462 non-null  object \n",
      " 1   en                               26462 non-null  object \n",
      " 2   OrderDate                        26462 non-null  object \n",
      " 3   Billing Sub Group                26462 non-null  int64  \n",
      " 4   Item code                        26462 non-null  object \n",
      " 5   Description                      26462 non-null  object \n",
      " 6   Package Code                     7016 non-null   object \n",
      " 7   hn                               26462 non-null  object \n",
      " 8   Name                             26462 non-null  object \n",
      " 9   Account Code                     26462 non-null  int64  \n",
      " 10  Discoun Account                  26462 non-null  int64  \n",
      " 11  Department                       26462 non-null  int64  \n",
      " 12  First Loc                        26462 non-null  object \n",
      " 13  Patient Loc                      26462 non-null  object \n",
      " 14  Rec Loc                          26462 non-null  object \n",
      " 15  Sub Type                         26462 non-null  object \n",
      " 16  nation                           26462 non-null  object \n",
      " 17  curr                             26462 non-null  object \n",
      " 18  Amount Before                    26462 non-null  int64  \n",
      " 19  Discount                         26462 non-null  float64\n",
      " 20  Bill Amount                      26462 non-null  float64\n",
      " 21   Doctor Group                    8557 non-null   float64\n",
      " 22  Doctor Type                      15951 non-null  object \n",
      " 23  Doctor Code                      15951 non-null  object \n",
      " 24  Doctor Name                      15951 non-null  object \n",
      " 25  Qty                              26462 non-null  int64  \n",
      " 26  OrderItemID and Accession No     26462 non-null  int64  \n",
      " 27  OrderItemSubID and Accession No  26462 non-null  int64  \n",
      " 28  Episode Id                       26462 non-null  int64  \n",
      " 29  Patient Id                       26462 non-null  int64  \n",
      "dtypes: float64(3), int64(10), object(17)\n",
      "memory usage: 6.1+ MB\n"
     ]
    },
    {
     "data": {
      "text/plain": "BU                                     1\nen                                    76\nOrderDate                            202\nBilling Sub Group                     62\nItem code                           1650\nDescription                         1602\nPackage Code                         156\nhn                                    76\nName                                  76\nAccount Code                          46\nDiscoun Account                       46\nDepartment                            17\nFirst Loc                             17\nPatient Loc                           60\nRec Loc                               54\nSub Type                               1\nnation                                12\ncurr                                   1\nAmount Before                       1368\nDiscount                             974\nBill Amount                          105\n Doctor Group                        134\nDoctor Type                           20\nDoctor Code                          333\nDoctor Name                          333\nQty                                  206\nOrderItemID and Accession No         133\nOrderItemSubID and Accession No    11226\nEpisode Id                            76\nPatient Id                            76\ndtype: int64"
     },
     "execution_count": 135,
     "metadata": {},
     "output_type": "execute_result"
    }
   ],
   "source": [
    "df_budget.info()\n",
    "df_budget.nunique()"
   ]
  },
  {
   "cell_type": "code",
   "execution_count": 142,
   "metadata": {
    "ExecuteTime": {
     "end_time": "2024-09-23T06:42:12.837161Z",
     "start_time": "2024-09-23T06:42:12.657579Z"
    }
   },
   "outputs": [
    {
     "name": "stdout",
     "output_type": "stream",
     "text": [
      "End of search\n"
     ]
    }
   ],
   "source": [
    "columns_to_check = [\n",
    "# 'BU',\n",
    "# 'en', \n",
    "# 'Billing Sub Group',\n",
    "# 'Item code', \n",
    "# 'Package Code', \n",
    "# 'Account Code', \n",
    "'OrderDate',  \n",
    "# 'OrderItemID and Accession No',\n",
    "'OrderItemSubID and Accession No',\n",
    "# 'Episode Id',\n",
    "# 'Patient Id'\n",
    "]\n",
    "find_unique_combinations(df_budget, columns_to_check)"
   ]
  },
  {
   "cell_type": "code",
   "execution_count": 141,
   "metadata": {
    "ExecuteTime": {
     "end_time": "2024-09-23T06:42:10.146372Z",
     "start_time": "2024-09-23T06:41:56.419605Z"
    }
   },
   "outputs": [
    {
     "ename": "KeyboardInterrupt",
     "evalue": "",
     "output_type": "error",
     "traceback": [
      "\u001B[0;31m---------------------------------------------------------------------------\u001B[0m",
      "\u001B[0;31mKeyboardInterrupt\u001B[0m                         Traceback (most recent call last)",
      "Cell \u001B[0;32mIn[141], line 4\u001B[0m\n\u001B[1;32m      1\u001B[0m columns_to_check \u001B[38;5;241m=\u001B[39m df_budget\u001B[38;5;241m.\u001B[39mcolumns  \u001B[38;5;66;03m# Replace with columns you want to check\u001B[39;00m\n\u001B[1;32m      3\u001B[0m \u001B[38;5;66;03m# Find unique combinations of the specified columns\u001B[39;00m\n\u001B[0;32m----> 4\u001B[0m \u001B[43mfind_unique_combinations\u001B[49m\u001B[43m(\u001B[49m\u001B[43mdf_budget\u001B[49m\u001B[43m,\u001B[49m\u001B[43m \u001B[49m\u001B[43mcolumns_to_check\u001B[49m\u001B[43m)\u001B[49m\n",
      "Cell \u001B[0;32mIn[134], line 29\u001B[0m, in \u001B[0;36mfind_unique_combinations\u001B[0;34m(df, cols)\u001B[0m\n\u001B[1;32m     24\u001B[0m \u001B[38;5;28;01mfor\u001B[39;00m r \u001B[38;5;129;01min\u001B[39;00m \u001B[38;5;28mrange\u001B[39m(\u001B[38;5;241m1\u001B[39m, \u001B[38;5;28mlen\u001B[39m(cols) \u001B[38;5;241m+\u001B[39m \u001B[38;5;241m1\u001B[39m):\n\u001B[1;32m     25\u001B[0m     \u001B[38;5;28;01mfor\u001B[39;00m combo \u001B[38;5;129;01min\u001B[39;00m combinations(cols, r):\n\u001B[1;32m     26\u001B[0m         \u001B[38;5;66;03m# print(f\"Checking combination: {combo}\")\u001B[39;00m\n\u001B[1;32m     27\u001B[0m         \n\u001B[1;32m     28\u001B[0m         \u001B[38;5;66;03m# Create a combined key based on selected columns\u001B[39;00m\n\u001B[0;32m---> 29\u001B[0m         combined_key \u001B[38;5;241m=\u001B[39m \u001B[43mdf\u001B[49m\u001B[43m[\u001B[49m\u001B[38;5;28;43mlist\u001B[39;49m\u001B[43m(\u001B[49m\u001B[43mcombo\u001B[49m\u001B[43m)\u001B[49m\u001B[43m]\u001B[49m\u001B[38;5;241;43m.\u001B[39;49m\u001B[43mapply\u001B[49m\u001B[43m(\u001B[49m\u001B[38;5;28;43mtuple\u001B[39;49m\u001B[43m,\u001B[49m\u001B[43m \u001B[49m\u001B[43maxis\u001B[49m\u001B[38;5;241;43m=\u001B[39;49m\u001B[38;5;241;43m1\u001B[39;49m\u001B[43m)\u001B[49m\n\u001B[1;32m     30\u001B[0m         \u001B[38;5;66;03m# print(combined_key)\u001B[39;00m\n\u001B[1;32m     31\u001B[0m         \u001B[38;5;66;03m# print(combined_key.nunique())\u001B[39;00m\n\u001B[1;32m     32\u001B[0m         \n\u001B[1;32m     33\u001B[0m         \u001B[38;5;66;03m# Check if the combination of columns is unique\u001B[39;00m\n\u001B[1;32m     34\u001B[0m         \u001B[38;5;28;01mif\u001B[39;00m combined_key\u001B[38;5;241m.\u001B[39mnunique() \u001B[38;5;241m==\u001B[39m \u001B[38;5;28mlen\u001B[39m(df):\n",
      "File \u001B[0;32m~/Desktop/tradesquareltd/vtn/lake_v2/.venv/lib/python3.12/site-packages/pandas/core/frame.py:10374\u001B[0m, in \u001B[0;36mDataFrame.apply\u001B[0;34m(self, func, axis, raw, result_type, args, by_row, engine, engine_kwargs, **kwargs)\u001B[0m\n\u001B[1;32m  10360\u001B[0m \u001B[38;5;28;01mfrom\u001B[39;00m \u001B[38;5;21;01mpandas\u001B[39;00m\u001B[38;5;21;01m.\u001B[39;00m\u001B[38;5;21;01mcore\u001B[39;00m\u001B[38;5;21;01m.\u001B[39;00m\u001B[38;5;21;01mapply\u001B[39;00m \u001B[38;5;28;01mimport\u001B[39;00m frame_apply\n\u001B[1;32m  10362\u001B[0m op \u001B[38;5;241m=\u001B[39m frame_apply(\n\u001B[1;32m  10363\u001B[0m     \u001B[38;5;28mself\u001B[39m,\n\u001B[1;32m  10364\u001B[0m     func\u001B[38;5;241m=\u001B[39mfunc,\n\u001B[0;32m   (...)\u001B[0m\n\u001B[1;32m  10372\u001B[0m     kwargs\u001B[38;5;241m=\u001B[39mkwargs,\n\u001B[1;32m  10373\u001B[0m )\n\u001B[0;32m> 10374\u001B[0m \u001B[38;5;28;01mreturn\u001B[39;00m \u001B[43mop\u001B[49m\u001B[38;5;241;43m.\u001B[39;49m\u001B[43mapply\u001B[49m\u001B[43m(\u001B[49m\u001B[43m)\u001B[49m\u001B[38;5;241m.\u001B[39m__finalize__(\u001B[38;5;28mself\u001B[39m, method\u001B[38;5;241m=\u001B[39m\u001B[38;5;124m\"\u001B[39m\u001B[38;5;124mapply\u001B[39m\u001B[38;5;124m\"\u001B[39m)\n",
      "File \u001B[0;32m~/Desktop/tradesquareltd/vtn/lake_v2/.venv/lib/python3.12/site-packages/pandas/core/apply.py:916\u001B[0m, in \u001B[0;36mFrameApply.apply\u001B[0;34m(self)\u001B[0m\n\u001B[1;32m    913\u001B[0m \u001B[38;5;28;01melif\u001B[39;00m \u001B[38;5;28mself\u001B[39m\u001B[38;5;241m.\u001B[39mraw:\n\u001B[1;32m    914\u001B[0m     \u001B[38;5;28;01mreturn\u001B[39;00m \u001B[38;5;28mself\u001B[39m\u001B[38;5;241m.\u001B[39mapply_raw(engine\u001B[38;5;241m=\u001B[39m\u001B[38;5;28mself\u001B[39m\u001B[38;5;241m.\u001B[39mengine, engine_kwargs\u001B[38;5;241m=\u001B[39m\u001B[38;5;28mself\u001B[39m\u001B[38;5;241m.\u001B[39mengine_kwargs)\n\u001B[0;32m--> 916\u001B[0m \u001B[38;5;28;01mreturn\u001B[39;00m \u001B[38;5;28;43mself\u001B[39;49m\u001B[38;5;241;43m.\u001B[39;49m\u001B[43mapply_standard\u001B[49m\u001B[43m(\u001B[49m\u001B[43m)\u001B[49m\n",
      "File \u001B[0;32m~/Desktop/tradesquareltd/vtn/lake_v2/.venv/lib/python3.12/site-packages/pandas/core/apply.py:1063\u001B[0m, in \u001B[0;36mFrameApply.apply_standard\u001B[0;34m(self)\u001B[0m\n\u001B[1;32m   1061\u001B[0m \u001B[38;5;28;01mdef\u001B[39;00m \u001B[38;5;21mapply_standard\u001B[39m(\u001B[38;5;28mself\u001B[39m):\n\u001B[1;32m   1062\u001B[0m     \u001B[38;5;28;01mif\u001B[39;00m \u001B[38;5;28mself\u001B[39m\u001B[38;5;241m.\u001B[39mengine \u001B[38;5;241m==\u001B[39m \u001B[38;5;124m\"\u001B[39m\u001B[38;5;124mpython\u001B[39m\u001B[38;5;124m\"\u001B[39m:\n\u001B[0;32m-> 1063\u001B[0m         results, res_index \u001B[38;5;241m=\u001B[39m \u001B[38;5;28;43mself\u001B[39;49m\u001B[38;5;241;43m.\u001B[39;49m\u001B[43mapply_series_generator\u001B[49m\u001B[43m(\u001B[49m\u001B[43m)\u001B[49m\n\u001B[1;32m   1064\u001B[0m     \u001B[38;5;28;01melse\u001B[39;00m:\n\u001B[1;32m   1065\u001B[0m         results, res_index \u001B[38;5;241m=\u001B[39m \u001B[38;5;28mself\u001B[39m\u001B[38;5;241m.\u001B[39mapply_series_numba()\n",
      "File \u001B[0;32m~/Desktop/tradesquareltd/vtn/lake_v2/.venv/lib/python3.12/site-packages/pandas/core/apply.py:1079\u001B[0m, in \u001B[0;36mFrameApply.apply_series_generator\u001B[0;34m(self)\u001B[0m\n\u001B[1;32m   1076\u001B[0m results \u001B[38;5;241m=\u001B[39m {}\n\u001B[1;32m   1078\u001B[0m \u001B[38;5;28;01mwith\u001B[39;00m option_context(\u001B[38;5;124m\"\u001B[39m\u001B[38;5;124mmode.chained_assignment\u001B[39m\u001B[38;5;124m\"\u001B[39m, \u001B[38;5;28;01mNone\u001B[39;00m):\n\u001B[0;32m-> 1079\u001B[0m \u001B[43m    \u001B[49m\u001B[38;5;28;43;01mfor\u001B[39;49;00m\u001B[43m \u001B[49m\u001B[43mi\u001B[49m\u001B[43m,\u001B[49m\u001B[43m \u001B[49m\u001B[43mv\u001B[49m\u001B[43m \u001B[49m\u001B[38;5;129;43;01min\u001B[39;49;00m\u001B[43m \u001B[49m\u001B[38;5;28;43menumerate\u001B[39;49m\u001B[43m(\u001B[49m\u001B[43mseries_gen\u001B[49m\u001B[43m)\u001B[49m\u001B[43m:\u001B[49m\n\u001B[1;32m   1080\u001B[0m \u001B[43m        \u001B[49m\u001B[38;5;66;43;03m# ignore SettingWithCopy here in case the user mutates\u001B[39;49;00m\n\u001B[1;32m   1081\u001B[0m \u001B[43m        \u001B[49m\u001B[43mresults\u001B[49m\u001B[43m[\u001B[49m\u001B[43mi\u001B[49m\u001B[43m]\u001B[49m\u001B[43m \u001B[49m\u001B[38;5;241;43m=\u001B[39;49m\u001B[43m \u001B[49m\u001B[38;5;28;43mself\u001B[39;49m\u001B[38;5;241;43m.\u001B[39;49m\u001B[43mfunc\u001B[49m\u001B[43m(\u001B[49m\u001B[43mv\u001B[49m\u001B[43m,\u001B[49m\u001B[43m \u001B[49m\u001B[38;5;241;43m*\u001B[39;49m\u001B[38;5;28;43mself\u001B[39;49m\u001B[38;5;241;43m.\u001B[39;49m\u001B[43margs\u001B[49m\u001B[43m,\u001B[49m\u001B[43m \u001B[49m\u001B[38;5;241;43m*\u001B[39;49m\u001B[38;5;241;43m*\u001B[39;49m\u001B[38;5;28;43mself\u001B[39;49m\u001B[38;5;241;43m.\u001B[39;49m\u001B[43mkwargs\u001B[49m\u001B[43m)\u001B[49m\n\u001B[1;32m   1082\u001B[0m \u001B[43m        \u001B[49m\u001B[38;5;28;43;01mif\u001B[39;49;00m\u001B[43m \u001B[49m\u001B[38;5;28;43misinstance\u001B[39;49m\u001B[43m(\u001B[49m\u001B[43mresults\u001B[49m\u001B[43m[\u001B[49m\u001B[43mi\u001B[49m\u001B[43m]\u001B[49m\u001B[43m,\u001B[49m\u001B[43m \u001B[49m\u001B[43mABCSeries\u001B[49m\u001B[43m)\u001B[49m\u001B[43m:\u001B[49m\n\u001B[1;32m   1083\u001B[0m \u001B[43m            \u001B[49m\u001B[38;5;66;43;03m# If we have a view on v, we need to make a copy because\u001B[39;49;00m\n\u001B[1;32m   1084\u001B[0m \u001B[43m            \u001B[49m\u001B[38;5;66;43;03m#  series_generator will swap out the underlying data\u001B[39;49;00m\n",
      "File \u001B[0;32m~/Desktop/tradesquareltd/vtn/lake_v2/.venv/lib/python3.12/site-packages/pandas/core/apply.py:1272\u001B[0m, in \u001B[0;36mFrameColumnApply.series_generator\u001B[0;34m(self)\u001B[0m\n\u001B[1;32m   1270\u001B[0m ser\u001B[38;5;241m.\u001B[39m_mgr \u001B[38;5;241m=\u001B[39m mgr\n\u001B[1;32m   1271\u001B[0m mgr\u001B[38;5;241m.\u001B[39mset_values(arr)\n\u001B[0;32m-> 1272\u001B[0m \u001B[38;5;28;43mobject\u001B[39;49m\u001B[38;5;241;43m.\u001B[39;49m\u001B[38;5;21;43m__setattr__\u001B[39;49m\u001B[43m(\u001B[49m\u001B[43mser\u001B[49m\u001B[43m,\u001B[49m\u001B[43m \u001B[49m\u001B[38;5;124;43m\"\u001B[39;49m\u001B[38;5;124;43m_name\u001B[39;49m\u001B[38;5;124;43m\"\u001B[39;49m\u001B[43m,\u001B[49m\u001B[43m \u001B[49m\u001B[43mname\u001B[49m\u001B[43m)\u001B[49m\n\u001B[1;32m   1273\u001B[0m \u001B[38;5;28;01mif\u001B[39;00m \u001B[38;5;129;01mnot\u001B[39;00m is_view:\n\u001B[1;32m   1274\u001B[0m     \u001B[38;5;66;03m# In apply_series_generator we store the a shallow copy of the\u001B[39;00m\n\u001B[1;32m   1275\u001B[0m     \u001B[38;5;66;03m# result, which potentially increases the ref count of this reused\u001B[39;00m\n\u001B[0;32m   (...)\u001B[0m\n\u001B[1;32m   1278\u001B[0m     \u001B[38;5;66;03m# the refs here to avoid triggering a unnecessary CoW inside the\u001B[39;00m\n\u001B[1;32m   1279\u001B[0m     \u001B[38;5;66;03m# applied function (https://github.com/pandas-dev/pandas/pull/56212)\u001B[39;00m\n\u001B[1;32m   1280\u001B[0m     mgr\u001B[38;5;241m.\u001B[39mblocks[\u001B[38;5;241m0\u001B[39m]\u001B[38;5;241m.\u001B[39mrefs \u001B[38;5;241m=\u001B[39m BlockValuesRefs(mgr\u001B[38;5;241m.\u001B[39mblocks[\u001B[38;5;241m0\u001B[39m])  \u001B[38;5;66;03m# type: ignore[union-attr]\u001B[39;00m\n",
      "\u001B[0;31mKeyboardInterrupt\u001B[0m: "
     ]
    }
   ],
   "source": [
    "columns_to_check = df_budget.columns  # Replace with columns you want to check\n",
    "\n",
    "# Find unique combinations of the specified columns\n",
    "find_unique_combinations(df_budget, columns_to_check)"
   ]
  },
  {
   "cell_type": "code",
   "execution_count": 120,
   "metadata": {
    "ExecuteTime": {
     "end_time": "2024-09-23T05:04:00.098926Z",
     "start_time": "2024-09-23T05:04:00.085608Z"
    }
   },
   "outputs": [
    {
     "name": "stdout",
     "output_type": "stream",
     "text": [
      "<class 'pandas.core.frame.DataFrame'>\n",
      "RangeIndex: 26462 entries, 0 to 26461\n",
      "Data columns (total 30 columns):\n",
      " #   Column                           Non-Null Count  Dtype  \n",
      "---  ------                           --------------  -----  \n",
      " 0   BU                               26462 non-null  object \n",
      " 1   en                               26462 non-null  object \n",
      " 2   OrderDate                        26462 non-null  object \n",
      " 3   Billing Sub Group                26462 non-null  int64  \n",
      " 4   Item code                        26462 non-null  object \n",
      " 5   Description                      26462 non-null  object \n",
      " 6   Package Code                     7016 non-null   object \n",
      " 7   hn                               26462 non-null  object \n",
      " 8   Name                             26462 non-null  object \n",
      " 9   Account Code                     26462 non-null  int64  \n",
      " 10  Discoun Account                  26462 non-null  int64  \n",
      " 11  Department                       26462 non-null  int64  \n",
      " 12  First Loc                        26462 non-null  object \n",
      " 13  Patient Loc                      26462 non-null  object \n",
      " 14  Rec Loc                          26462 non-null  object \n",
      " 15  Sub Type                         26462 non-null  object \n",
      " 16  nation                           26462 non-null  object \n",
      " 17  curr                             26462 non-null  object \n",
      " 18  Amount Before                    26462 non-null  int64  \n",
      " 19  Discount                         26462 non-null  float64\n",
      " 20  Bill Amount                      26462 non-null  float64\n",
      " 21   Doctor Group                    8557 non-null   float64\n",
      " 22  Doctor Type                      15951 non-null  object \n",
      " 23  Doctor Code                      15951 non-null  object \n",
      " 24  Doctor Name                      15951 non-null  object \n",
      " 25  Qty                              26462 non-null  int64  \n",
      " 26  OrderItemID and Accession No     26462 non-null  int64  \n",
      " 27  OrderItemSubID and Accession No  26462 non-null  int64  \n",
      " 28  Episode Id                       26462 non-null  int64  \n",
      " 29  Patient Id                       26462 non-null  int64  \n",
      "dtypes: float64(3), int64(10), object(17)\n",
      "memory usage: 6.1+ MB\n"
     ]
    }
   ],
   "source": [
    "df_budget.info()"
   ]
  },
  {
   "cell_type": "code",
   "execution_count": 121,
   "metadata": {
    "ExecuteTime": {
     "end_time": "2024-09-23T05:04:05.556168Z",
     "start_time": "2024-09-23T05:04:05.534867Z"
    }
   },
   "outputs": [
    {
     "name": "stdout",
     "output_type": "stream",
     "text": [
      "budget\n",
      "<class 'pandas.core.frame.DataFrame'>\n",
      "RangeIndex: 26462 entries, 0 to 26461\n",
      "Data columns (total 30 columns):\n",
      " #   Column                           Non-Null Count  Dtype  \n",
      "---  ------                           --------------  -----  \n",
      " 0   BU                               26462 non-null  object \n",
      " 1   en                               26462 non-null  object \n",
      " 2   OrderDate                        26462 non-null  object \n",
      " 3   Billing Sub Group                26462 non-null  int64  \n",
      " 4   Item code                        26462 non-null  object \n",
      " 5   Description                      26462 non-null  object \n",
      " 6   Package Code                     7016 non-null   object \n",
      " 7   hn                               26462 non-null  object \n",
      " 8   Name                             26462 non-null  object \n",
      " 9   Account Code                     26462 non-null  int64  \n",
      " 10  Discoun Account                  26462 non-null  int64  \n",
      " 11  Department                       26462 non-null  int64  \n",
      " 12  First Loc                        26462 non-null  object \n",
      " 13  Patient Loc                      26462 non-null  object \n",
      " 14  Rec Loc                          26462 non-null  object \n",
      " 15  Sub Type                         26462 non-null  object \n",
      " 16  nation                           26462 non-null  object \n",
      " 17  curr                             26462 non-null  object \n",
      " 18  Amount Before                    26462 non-null  int64  \n",
      " 19  Discount                         26462 non-null  float64\n",
      " 20  Bill Amount                      26462 non-null  float64\n",
      " 21   Doctor Group                    8557 non-null   float64\n",
      " 22  Doctor Type                      15951 non-null  object \n",
      " 23  Doctor Code                      15951 non-null  object \n",
      " 24  Doctor Name                      15951 non-null  object \n",
      " 25  Qty                              26462 non-null  int64  \n",
      " 26  OrderItemID and Accession No     26462 non-null  int64  \n",
      " 27  OrderItemSubID and Accession No  26462 non-null  int64  \n",
      " 28  Episode Id                       26462 non-null  int64  \n",
      " 29  Patient Id                       26462 non-null  int64  \n",
      "dtypes: float64(3), int64(10), object(17)\n",
      "memory usage: 6.1+ MB\n",
      "None\n"
     ]
    }
   ],
   "source": [
    "\n",
    "print('budget')\n",
    "print(df_budget.info()) "
   ]
  }
 ],
 "metadata": {
  "kernelspec": {
   "display_name": "Python 3 (ipykernel)",
   "language": "python",
   "name": "python3"
  },
  "language_info": {
   "codemirror_mode": {
    "name": "ipython",
    "version": 3
   },
   "file_extension": ".py",
   "mimetype": "text/x-python",
   "name": "python",
   "nbconvert_exporter": "python",
   "pygments_lexer": "ipython3",
   "version": "3.11.10"
  }
 },
 "nbformat": 4,
 "nbformat_minor": 4
}
